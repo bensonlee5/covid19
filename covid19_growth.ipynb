{
 "cells": [
  {
   "cell_type": "markdown",
   "metadata": {
    "papermill": {
     "duration": 0.010127,
     "end_time": "2020-03-14T18:03:01.110856",
     "exception": false,
     "start_time": "2020-03-14T18:03:01.100729",
     "status": "completed"
    },
    "tags": []
   },
   "source": [
    "# COVID-19 Growth Analysis\n",
    "> Visualizations of the growth of COVID-19.\n",
    "\n",
    "- comments: true\n",
    "- author: Thomas Wiecki\n",
    "- categories: [growth]\n",
    "- image: images/covid-growth.png\n",
    "- permalink: /growth-analysis/"
   ]
  },
  {
   "cell_type": "code",
   "execution_count": 1,
   "metadata": {
    "ExecuteTime": {
     "end_time": "2020-03-14T22:49:09.567779Z",
     "start_time": "2020-03-14T22:49:09.561934Z"
    },
    "papermill": {
     "duration": 4.087472,
     "end_time": "2020-03-14T18:03:05.205279",
     "exception": false,
     "start_time": "2020-03-14T18:03:01.117807",
     "status": "completed"
    },
    "tags": []
   },
   "outputs": [],
   "source": [
    "#hide\n",
    "%matplotlib inline\n",
    "import numpy as np\n",
    "import matplotlib.pyplot as plt\n",
    "import matplotlib\n",
    "import pandas as pd\n",
    "import seaborn as sns\n",
    "\n",
    "import requests\n",
    "import io\n",
    "\n",
    "sns.set_context('talk')\n",
    "plt.style.use('seaborn-whitegrid')"
   ]
  },
  {
   "cell_type": "code",
   "execution_count": 2,
   "metadata": {},
   "outputs": [],
   "source": [
    "pd.set_option('display.max_rows', 500)"
   ]
  },
  {
   "cell_type": "code",
   "execution_count": 3,
   "metadata": {
    "ExecuteTime": {
     "end_time": "2020-03-14T22:49:10.636631Z",
     "start_time": "2020-03-14T22:49:09.570226Z"
    },
    "papermill": {
     "duration": 0.885755,
     "end_time": "2020-03-14T18:03:06.096899",
     "exception": false,
     "start_time": "2020-03-14T18:03:05.211144",
     "status": "completed"
    },
    "tags": []
   },
   "outputs": [
    {
     "ename": "TypeError",
     "evalue": "unsupported operand type(s) for -: 'str' and 'int'",
     "output_type": "error",
     "traceback": [
      "\u001b[0;31m---------------------------------------------------------------------------\u001b[0m",
      "\u001b[0;31mStopIteration\u001b[0m                             Traceback (most recent call last)",
      "\u001b[0;32m~/fpna/.virtualenvs/fpna/lib/python3.7/site-packages/pandas/io/parsers.py\u001b[0m in \u001b[0;36mread\u001b[0;34m(self, nrows)\u001b[0m\n\u001b[1;32m   2036\u001b[0m         \u001b[0;32mtry\u001b[0m\u001b[0;34m:\u001b[0m\u001b[0;34m\u001b[0m\u001b[0;34m\u001b[0m\u001b[0m\n\u001b[0;32m-> 2037\u001b[0;31m             \u001b[0mdata\u001b[0m \u001b[0;34m=\u001b[0m \u001b[0mself\u001b[0m\u001b[0;34m.\u001b[0m\u001b[0m_reader\u001b[0m\u001b[0;34m.\u001b[0m\u001b[0mread\u001b[0m\u001b[0;34m(\u001b[0m\u001b[0mnrows\u001b[0m\u001b[0;34m)\u001b[0m\u001b[0;34m\u001b[0m\u001b[0;34m\u001b[0m\u001b[0m\n\u001b[0m\u001b[1;32m   2038\u001b[0m         \u001b[0;32mexcept\u001b[0m \u001b[0mStopIteration\u001b[0m\u001b[0;34m:\u001b[0m\u001b[0;34m\u001b[0m\u001b[0;34m\u001b[0m\u001b[0m\n",
      "\u001b[0;32mpandas/_libs/parsers.pyx\u001b[0m in \u001b[0;36mpandas._libs.parsers.TextReader.read\u001b[0;34m()\u001b[0m\n",
      "\u001b[0;32mpandas/_libs/parsers.pyx\u001b[0m in \u001b[0;36mpandas._libs.parsers.TextReader._read_low_memory\u001b[0;34m()\u001b[0m\n",
      "\u001b[0;31mStopIteration\u001b[0m: ",
      "\nDuring handling of the above exception, another exception occurred:\n",
      "\u001b[0;31mTypeError\u001b[0m                                 Traceback (most recent call last)",
      "\u001b[0;32m<ipython-input-3-59fe9fd27c30>\u001b[0m in \u001b[0;36m<module>\u001b[0;34m\u001b[0m\n\u001b[1;32m     81\u001b[0m     \u001b[0;32mreturn\u001b[0m \u001b[0mdf\u001b[0m\u001b[0;34m\u001b[0m\u001b[0;34m\u001b[0m\u001b[0m\n\u001b[1;32m     82\u001b[0m \u001b[0;34m\u001b[0m\u001b[0m\n\u001b[0;32m---> 83\u001b[0;31m \u001b[0mdf_confirmed\u001b[0m \u001b[0;34m=\u001b[0m \u001b[0mload_timeseries\u001b[0m\u001b[0;34m(\u001b[0m\u001b[0;34m'Confirmed'\u001b[0m\u001b[0;34m)\u001b[0m\u001b[0;34m\u001b[0m\u001b[0;34m\u001b[0m\u001b[0m\n\u001b[0m",
      "\u001b[0;32m<ipython-input-3-59fe9fd27c30>\u001b[0m in \u001b[0;36mload_timeseries\u001b[0;34m(name, base_url)\u001b[0m\n\u001b[1;32m      7\u001b[0m     \u001b[0mcsv\u001b[0m \u001b[0;34m=\u001b[0m \u001b[0mrequests\u001b[0m\u001b[0;34m.\u001b[0m\u001b[0mget\u001b[0m\u001b[0;34m(\u001b[0m\u001b[0murl\u001b[0m\u001b[0;34m)\u001b[0m\u001b[0;34m.\u001b[0m\u001b[0mtext\u001b[0m\u001b[0;34m\u001b[0m\u001b[0;34m\u001b[0m\u001b[0m\n\u001b[1;32m      8\u001b[0m     df = pd.read_csv(io.StringIO(csv), \n\u001b[0;32m----> 9\u001b[0;31m                      index_col=['Country/Region', 'Province/State', 'Lat', 'Long'])\n\u001b[0m\u001b[1;32m     10\u001b[0m     \u001b[0mdf\u001b[0m\u001b[0;34m[\u001b[0m\u001b[0;34m'type'\u001b[0m\u001b[0;34m]\u001b[0m \u001b[0;34m=\u001b[0m \u001b[0mname\u001b[0m\u001b[0;34m.\u001b[0m\u001b[0mlower\u001b[0m\u001b[0;34m(\u001b[0m\u001b[0;34m)\u001b[0m\u001b[0;34m\u001b[0m\u001b[0;34m\u001b[0m\u001b[0m\n\u001b[1;32m     11\u001b[0m     \u001b[0mdf\u001b[0m\u001b[0;34m.\u001b[0m\u001b[0mcolumns\u001b[0m\u001b[0;34m.\u001b[0m\u001b[0mname\u001b[0m \u001b[0;34m=\u001b[0m \u001b[0;34m'date'\u001b[0m\u001b[0;34m\u001b[0m\u001b[0;34m\u001b[0m\u001b[0m\n",
      "\u001b[0;32m~/fpna/.virtualenvs/fpna/lib/python3.7/site-packages/pandas/io/parsers.py\u001b[0m in \u001b[0;36mparser_f\u001b[0;34m(filepath_or_buffer, sep, delimiter, header, names, index_col, usecols, squeeze, prefix, mangle_dupe_cols, dtype, engine, converters, true_values, false_values, skipinitialspace, skiprows, skipfooter, nrows, na_values, keep_default_na, na_filter, verbose, skip_blank_lines, parse_dates, infer_datetime_format, keep_date_col, date_parser, dayfirst, cache_dates, iterator, chunksize, compression, thousands, decimal, lineterminator, quotechar, quoting, doublequote, escapechar, comment, encoding, dialect, error_bad_lines, warn_bad_lines, delim_whitespace, low_memory, memory_map, float_precision)\u001b[0m\n\u001b[1;32m    674\u001b[0m         )\n\u001b[1;32m    675\u001b[0m \u001b[0;34m\u001b[0m\u001b[0m\n\u001b[0;32m--> 676\u001b[0;31m         \u001b[0;32mreturn\u001b[0m \u001b[0m_read\u001b[0m\u001b[0;34m(\u001b[0m\u001b[0mfilepath_or_buffer\u001b[0m\u001b[0;34m,\u001b[0m \u001b[0mkwds\u001b[0m\u001b[0;34m)\u001b[0m\u001b[0;34m\u001b[0m\u001b[0;34m\u001b[0m\u001b[0m\n\u001b[0m\u001b[1;32m    677\u001b[0m \u001b[0;34m\u001b[0m\u001b[0m\n\u001b[1;32m    678\u001b[0m     \u001b[0mparser_f\u001b[0m\u001b[0;34m.\u001b[0m\u001b[0m__name__\u001b[0m \u001b[0;34m=\u001b[0m \u001b[0mname\u001b[0m\u001b[0;34m\u001b[0m\u001b[0;34m\u001b[0m\u001b[0m\n",
      "\u001b[0;32m~/fpna/.virtualenvs/fpna/lib/python3.7/site-packages/pandas/io/parsers.py\u001b[0m in \u001b[0;36m_read\u001b[0;34m(filepath_or_buffer, kwds)\u001b[0m\n\u001b[1;32m    452\u001b[0m \u001b[0;34m\u001b[0m\u001b[0m\n\u001b[1;32m    453\u001b[0m     \u001b[0;32mtry\u001b[0m\u001b[0;34m:\u001b[0m\u001b[0;34m\u001b[0m\u001b[0;34m\u001b[0m\u001b[0m\n\u001b[0;32m--> 454\u001b[0;31m         \u001b[0mdata\u001b[0m \u001b[0;34m=\u001b[0m \u001b[0mparser\u001b[0m\u001b[0;34m.\u001b[0m\u001b[0mread\u001b[0m\u001b[0;34m(\u001b[0m\u001b[0mnrows\u001b[0m\u001b[0;34m)\u001b[0m\u001b[0;34m\u001b[0m\u001b[0;34m\u001b[0m\u001b[0m\n\u001b[0m\u001b[1;32m    455\u001b[0m     \u001b[0;32mfinally\u001b[0m\u001b[0;34m:\u001b[0m\u001b[0;34m\u001b[0m\u001b[0;34m\u001b[0m\u001b[0m\n\u001b[1;32m    456\u001b[0m         \u001b[0mparser\u001b[0m\u001b[0;34m.\u001b[0m\u001b[0mclose\u001b[0m\u001b[0;34m(\u001b[0m\u001b[0;34m)\u001b[0m\u001b[0;34m\u001b[0m\u001b[0;34m\u001b[0m\u001b[0m\n",
      "\u001b[0;32m~/fpna/.virtualenvs/fpna/lib/python3.7/site-packages/pandas/io/parsers.py\u001b[0m in \u001b[0;36mread\u001b[0;34m(self, nrows)\u001b[0m\n\u001b[1;32m   1131\u001b[0m     \u001b[0;32mdef\u001b[0m \u001b[0mread\u001b[0m\u001b[0;34m(\u001b[0m\u001b[0mself\u001b[0m\u001b[0;34m,\u001b[0m \u001b[0mnrows\u001b[0m\u001b[0;34m=\u001b[0m\u001b[0;32mNone\u001b[0m\u001b[0;34m)\u001b[0m\u001b[0;34m:\u001b[0m\u001b[0;34m\u001b[0m\u001b[0;34m\u001b[0m\u001b[0m\n\u001b[1;32m   1132\u001b[0m         \u001b[0mnrows\u001b[0m \u001b[0;34m=\u001b[0m \u001b[0m_validate_integer\u001b[0m\u001b[0;34m(\u001b[0m\u001b[0;34m\"nrows\"\u001b[0m\u001b[0;34m,\u001b[0m \u001b[0mnrows\u001b[0m\u001b[0;34m)\u001b[0m\u001b[0;34m\u001b[0m\u001b[0;34m\u001b[0m\u001b[0m\n\u001b[0;32m-> 1133\u001b[0;31m         \u001b[0mret\u001b[0m \u001b[0;34m=\u001b[0m \u001b[0mself\u001b[0m\u001b[0;34m.\u001b[0m\u001b[0m_engine\u001b[0m\u001b[0;34m.\u001b[0m\u001b[0mread\u001b[0m\u001b[0;34m(\u001b[0m\u001b[0mnrows\u001b[0m\u001b[0;34m)\u001b[0m\u001b[0;34m\u001b[0m\u001b[0;34m\u001b[0m\u001b[0m\n\u001b[0m\u001b[1;32m   1134\u001b[0m \u001b[0;34m\u001b[0m\u001b[0m\n\u001b[1;32m   1135\u001b[0m         \u001b[0;31m# May alter columns / col_dict\u001b[0m\u001b[0;34m\u001b[0m\u001b[0;34m\u001b[0m\u001b[0;34m\u001b[0m\u001b[0m\n",
      "\u001b[0;32m~/fpna/.virtualenvs/fpna/lib/python3.7/site-packages/pandas/io/parsers.py\u001b[0m in \u001b[0;36mread\u001b[0;34m(self, nrows)\u001b[0m\n\u001b[1;32m   2044\u001b[0m                     \u001b[0mself\u001b[0m\u001b[0;34m.\u001b[0m\u001b[0mindex_col\u001b[0m\u001b[0;34m,\u001b[0m\u001b[0;34m\u001b[0m\u001b[0;34m\u001b[0m\u001b[0m\n\u001b[1;32m   2045\u001b[0m                     \u001b[0mself\u001b[0m\u001b[0;34m.\u001b[0m\u001b[0mindex_names\u001b[0m\u001b[0;34m,\u001b[0m\u001b[0;34m\u001b[0m\u001b[0;34m\u001b[0m\u001b[0m\n\u001b[0;32m-> 2046\u001b[0;31m                     \u001b[0mdtype\u001b[0m\u001b[0;34m=\u001b[0m\u001b[0mself\u001b[0m\u001b[0;34m.\u001b[0m\u001b[0mkwds\u001b[0m\u001b[0;34m.\u001b[0m\u001b[0mget\u001b[0m\u001b[0;34m(\u001b[0m\u001b[0;34m\"dtype\"\u001b[0m\u001b[0;34m)\u001b[0m\u001b[0;34m,\u001b[0m\u001b[0;34m\u001b[0m\u001b[0;34m\u001b[0m\u001b[0m\n\u001b[0m\u001b[1;32m   2047\u001b[0m                 )\n\u001b[1;32m   2048\u001b[0m                 \u001b[0mcolumns\u001b[0m \u001b[0;34m=\u001b[0m \u001b[0mself\u001b[0m\u001b[0;34m.\u001b[0m\u001b[0m_maybe_make_multi_index_columns\u001b[0m\u001b[0;34m(\u001b[0m\u001b[0mcolumns\u001b[0m\u001b[0;34m,\u001b[0m \u001b[0mself\u001b[0m\u001b[0;34m.\u001b[0m\u001b[0mcol_names\u001b[0m\u001b[0;34m)\u001b[0m\u001b[0;34m\u001b[0m\u001b[0;34m\u001b[0m\u001b[0m\n",
      "\u001b[0;32m~/fpna/.virtualenvs/fpna/lib/python3.7/site-packages/pandas/io/parsers.py\u001b[0m in \u001b[0;36m_get_empty_meta\u001b[0;34m(columns, index_col, index_names, dtype)\u001b[0m\n\u001b[1;32m   3451\u001b[0m \u001b[0;34m\u001b[0m\u001b[0m\n\u001b[1;32m   3452\u001b[0m         \u001b[0;32mfor\u001b[0m \u001b[0mi\u001b[0m\u001b[0;34m,\u001b[0m \u001b[0mn\u001b[0m \u001b[0;32min\u001b[0m \u001b[0menumerate\u001b[0m\u001b[0;34m(\u001b[0m\u001b[0mindex_col\u001b[0m\u001b[0;34m)\u001b[0m\u001b[0;34m:\u001b[0m\u001b[0;34m\u001b[0m\u001b[0;34m\u001b[0m\u001b[0m\n\u001b[0;32m-> 3453\u001b[0;31m             \u001b[0mcolumns\u001b[0m\u001b[0;34m.\u001b[0m\u001b[0mpop\u001b[0m\u001b[0;34m(\u001b[0m\u001b[0mn\u001b[0m \u001b[0;34m-\u001b[0m \u001b[0mi\u001b[0m\u001b[0;34m)\u001b[0m\u001b[0;34m\u001b[0m\u001b[0;34m\u001b[0m\u001b[0m\n\u001b[0m\u001b[1;32m   3454\u001b[0m \u001b[0;34m\u001b[0m\u001b[0m\n\u001b[1;32m   3455\u001b[0m     \u001b[0mcol_dict\u001b[0m \u001b[0;34m=\u001b[0m \u001b[0;34m{\u001b[0m\u001b[0mcol_name\u001b[0m\u001b[0;34m:\u001b[0m \u001b[0mSeries\u001b[0m\u001b[0;34m(\u001b[0m\u001b[0;34m[\u001b[0m\u001b[0;34m]\u001b[0m\u001b[0;34m,\u001b[0m \u001b[0mdtype\u001b[0m\u001b[0;34m=\u001b[0m\u001b[0mdtype\u001b[0m\u001b[0;34m[\u001b[0m\u001b[0mcol_name\u001b[0m\u001b[0;34m]\u001b[0m\u001b[0;34m)\u001b[0m \u001b[0;32mfor\u001b[0m \u001b[0mcol_name\u001b[0m \u001b[0;32min\u001b[0m \u001b[0mcolumns\u001b[0m\u001b[0;34m}\u001b[0m\u001b[0;34m\u001b[0m\u001b[0;34m\u001b[0m\u001b[0m\n",
      "\u001b[0;31mTypeError\u001b[0m: unsupported operand type(s) for -: 'str' and 'int'"
     ]
    }
   ],
   "source": [
    "#hide\n",
    "def load_timeseries(name, \n",
    "                    base_url='https://raw.githubusercontent.com/CSSEGISandData/COVID-19/master/csse_covid_19_data/csse_covid_19_time_series'):\n",
    "    import requests\n",
    "    # Thanks to kasparthommen for the suggestion to directly download\n",
    "    url = f'{base_url}/time_series_19-covid-{name}.csv'\n",
    "    csv = requests.get(url).text\n",
    "    df = pd.read_csv(io.StringIO(csv), \n",
    "                     index_col=['Country/Region', 'Province/State', 'Lat', 'Long'])\n",
    "    df['type'] = name.lower()\n",
    "    df.columns.name = 'date'\n",
    "    \n",
    "    df = (df.set_index('type', append=True)\n",
    "            .reset_index(['Lat', 'Long'], drop=True)\n",
    "            .stack()\n",
    "            .reset_index()\n",
    "            .set_index('date')\n",
    "         )\n",
    "    df.index = pd.to_datetime(df.index)\n",
    "    df.columns = ['country', 'state', 'type', 'cases']\n",
    "    \n",
    "    # Move HK to country level\n",
    "    df.loc[df.state =='Hong Kong', 'country'] = 'Hong Kong'\n",
    "    df.loc[df.state =='Hong Kong', 'state'] = np.nan\n",
    "    \n",
    "    df_us = df.copy()\n",
    "\n",
    "    obs_states = ['California', 'New York', 'Washington',\n",
    "                  'Idaho', 'Missouri', 'Nebraska', 'Tennessee', 'Texas', 'Wyoming']\n",
    "    df_us.loc[(df_us.state =='California') | \n",
    "           (((df_us['state'].str.replace('.', '').str[-2:]) == 'CA') & \n",
    "            (df_us['country'] == 'US')), 'country'] = 'California'\n",
    "    df_us.loc[df_us.state =='California', 'state'] = np.nan\n",
    "\n",
    "    df_us.loc[(df_us.state =='New York') | \n",
    "           (((df_us['state'].str.replace('.', '').str[-2:]) == 'NY') & \n",
    "            (df_us['country'] == 'US')), 'country'] = 'New York'\n",
    "    df_us.loc[df_us.state =='New York', 'state'] = np.nan\n",
    "\n",
    "    df_us.loc[(df_us.state =='Washington') | \n",
    "           (((df_us['state'].str.replace('.', '').str[-2:]) == 'WA') & \n",
    "            (df_us['country'] == 'US')), 'country'] = 'Washington'\n",
    "    df_us.loc[df_us.state =='Washington', 'state'] = np.nan\n",
    "    \n",
    "    df_us.loc[(df_us.state =='Maryland') | \n",
    "           (((df_us['state'].str.replace('.', '').str[-2:]) == 'MD') & \n",
    "            (df_us['country'] == 'US')), 'country'] = 'Maryland'\n",
    "    df_us.loc[df_us.state =='Maryland', 'state'] = np.nan    \n",
    "\n",
    "    df_us.loc[(df_us.state.isin(['Idaho', 'Missouri', 'Nebraska', 'Tennessee', 'Texas', 'Wyoming'])) | \n",
    "           (((df_us['state'].str.replace('.', '').str[-2:]).isin(\n",
    "               ['ID', 'MO', 'NE', 'TN', 'TX', 'WY'])) & \n",
    "            (df_us['country'] == 'US')), 'country'] = 'No mitigation US'\n",
    "    df_us.loc[df_us.state =='No mitigation US', 'state'] = np.nan\n",
    "    \n",
    "    \n",
    "    df_us = df_us[df_us['country'].isin(['California', 'New York', 'Washington',\n",
    "                                         'Maryland',\n",
    "                                         'No mitigation US'])].copy()\n",
    "    \n",
    "#     # Move CA, WA,  to country level\n",
    "#     df_us = df[df['country'] == 'US'].copy()\n",
    "#     df_us['last2'] = np.where(df_us['country'] == 'US', \n",
    "#                               df_us['state'].str.replace('.', '').str[-2:], \n",
    "#                               None)\n",
    "#     df_us['state2'] = df_us['last2'].map(abbrev_us_state)\n",
    "#     df_us['country'] = np.where(df_us['state2'].notnull(), df_us['state2'], df_us['state'])\n",
    "#     df_us['state'] = np.nan\n",
    "    \n",
    "    # Aggregate large countries split by states\n",
    "    df = pd.concat([df, \n",
    "                    (df.loc[~df.state.isna()]\n",
    "                     .groupby(['country', 'date', 'type'])\n",
    "                     .sum()\n",
    "                     .rename(index=lambda x: x+' (total)', level=0)\n",
    "                     .reset_index(level=['country', 'type'])),\n",
    "                    (df_us.groupby(['country', 'date', 'type'])\n",
    "                     .sum()\n",
    "                     .reset_index(level=['country', 'type']))\n",
    "                   ])\n",
    "    return df\n",
    "\n",
    "df_confirmed = load_timeseries('Confirmed')"
   ]
  },
  {
   "cell_type": "code",
   "execution_count": null,
   "metadata": {
    "ExecuteTime": {
     "end_time": "2020-03-14T22:49:10.636631Z",
     "start_time": "2020-03-14T22:49:09.570226Z"
    },
    "papermill": {
     "duration": 0.885755,
     "end_time": "2020-03-14T18:03:06.096899",
     "exception": false,
     "start_time": "2020-03-14T18:03:05.211144",
     "status": "completed"
    },
    "tags": []
   },
   "outputs": [],
   "source": [
    "# Estimated critical cases\n",
    "p_crit = .05\n",
    "df_confirmed = df_confirmed.assign(cases_crit=df_confirmed.cases*p_crit)\n",
    "\n",
    "# Compute days relative to when 100 confirmed cases was crossed\n",
    "df_confirmed.loc[:, 'days_since_100'] = np.nan\n",
    "for country in df_confirmed.country.unique():\n",
    "    df_confirmed.loc[(df_confirmed.country == country), 'days_since_100'] = \\\n",
    "        np.arange(-len(df_confirmed.loc[(df_confirmed.country == country) & (df_confirmed.cases < 100)]), \n",
    "                  len(df_confirmed.loc[(df_confirmed.country == country) & (df_confirmed.cases >= 100)]))\n",
    "    \n",
    "annotate_kwargs = dict(\n",
    "    s='Based on COVID Data Repository by Johns Hopkins CSSE ({})'.format(df_confirmed.index.max().strftime('%B %d, %Y')), \n",
    "    xy=(0.05, 0.01), xycoords='figure fraction', fontsize=10)"
   ]
  },
  {
   "cell_type": "code",
   "execution_count": null,
   "metadata": {},
   "outputs": [],
   "source": [
    "df_confirmed.index.max()"
   ]
  },
  {
   "cell_type": "code",
   "execution_count": null,
   "metadata": {
    "ExecuteTime": {
     "end_time": "2020-03-14T22:49:10.649667Z",
     "start_time": "2020-03-14T22:49:10.640198Z"
    },
    "papermill": {
     "duration": 0.073788,
     "end_time": "2020-03-14T18:03:06.177274",
     "exception": false,
     "start_time": "2020-03-14T18:03:06.103486",
     "status": "completed"
    },
    "scrolled": true,
    "tags": []
   },
   "outputs": [],
   "source": [
    "#hide\n",
    "# Country names seem to change quite a bit\n",
    "df_confirmed.country.unique()"
   ]
  },
  {
   "cell_type": "code",
   "execution_count": null,
   "metadata": {
    "ExecuteTime": {
     "end_time": "2020-03-14T22:49:10.657643Z",
     "start_time": "2020-03-14T22:49:10.652702Z"
    }
   },
   "outputs": [],
   "source": [
    "#hide\n",
    "european_countries = ['Italy', 'Germany', 'France (total)', 'Spain', 'United Kingdom (total)', \n",
    "                      'Iran']\n",
    "large_engl_countries = ['US (total)', 'Canada (total)', 'Australia (total)']\n",
    "asian_countries = ['Singapore', 'Japan', 'Korea, South', 'Hong Kong']\n",
    "south_american_countries = ['Argentina', 'Brazil', 'Colombia', 'Chile']\n",
    "us_states = ['Washington', 'New York', 'California', 'No mitigation US']\n",
    "\n",
    "# country_groups = [european_countries, large_engl_countries, asian_countries, south_american_countries, us_states]\n",
    "country_groups = [european_countries, large_engl_countries, asian_countries, us_states]\n",
    "line_styles = ['-', ':', '--', '-.']"
   ]
  },
  {
   "cell_type": "code",
   "execution_count": null,
   "metadata": {
    "ExecuteTime": {
     "end_time": "2020-03-14T22:49:11.354476Z",
     "start_time": "2020-03-14T22:49:10.661080Z"
    },
    "papermill": {
     "duration": 0.679532,
     "end_time": "2020-03-14T18:03:06.863429",
     "exception": false,
     "start_time": "2020-03-14T18:03:06.183897",
     "status": "completed"
    },
    "scrolled": false,
    "tags": []
   },
   "outputs": [],
   "source": [
    "#collapse-hide\n",
    "\n",
    "def plot_countries(df, countries, min_cases=100, ls='-', col='cases'):\n",
    "    for country in countries:\n",
    "        df_country = df.loc[(df.country == country) & (df.cases >= min_cases)]\n",
    "        if len(df_country) == 0:\n",
    "            continue\n",
    "        df_country.reset_index()[col].plot(label=country, ls=ls)\n",
    "        \n",
    "sns.set_palette(sns.hls_palette(8, l=.45, s=.8)) # 8 countries max\n",
    "fig, ax = plt.subplots(figsize=(12, 8))\n",
    "\n",
    "for countries, ls in zip(country_groups, line_styles):\n",
    "    plot_countries(df_confirmed, countries, ls=ls)\n",
    "\n",
    "x = np.linspace(0, plt.xlim()[1] - 1)\n",
    "ax.plot(x, 100 * (1.33) ** x, ls='--', color='k', label='33% daily growth')\n",
    "\n",
    "ax.set(yscale='log',\n",
    "       title='Exponential growth of COVID-19 across countries',\n",
    "       xlabel='Days from first 100 confirmed cases',\n",
    "       ylabel='Confirmed cases (log scale)')\n",
    "ax.get_yaxis().set_major_formatter(matplotlib.ticker.ScalarFormatter())\n",
    "ax.legend(bbox_to_anchor=(1.0, 1.0))\n",
    "ax.annotate(**annotate_kwargs)\n",
    "sns.despine();"
   ]
  },
  {
   "cell_type": "code",
   "execution_count": null,
   "metadata": {
    "ExecuteTime": {
     "end_time": "2020-03-14T22:49:23.772914Z",
     "start_time": "2020-03-14T22:49:23.611230Z"
    },
    "papermill": {
     "duration": 0.185224,
     "end_time": "2020-03-14T18:03:08.141335",
     "exception": false,
     "start_time": "2020-03-14T18:03:07.956111",
     "status": "completed"
    },
    "tags": []
   },
   "outputs": [],
   "source": [
    "#hide\n",
    "# This creates a preview image for the blog post and home page\n",
    "fig.savefig('images/covid-growth.png')"
   ]
  },
  {
   "cell_type": "code",
   "execution_count": null,
   "metadata": {
    "ExecuteTime": {
     "end_time": "2020-03-14T22:49:25.700440Z",
     "start_time": "2020-03-14T22:49:25.223437Z"
    },
    "papermill": {
     "duration": 0.580108,
     "end_time": "2020-03-14T18:03:07.453139",
     "exception": false,
     "start_time": "2020-03-14T18:03:06.873031",
     "status": "completed"
    },
    "tags": []
   },
   "outputs": [],
   "source": [
    "#collapse-hide\n",
    "fig, ax = plt.subplots(figsize=(12, 8))\n",
    "\n",
    "for countries, ls in zip(country_groups, line_styles):\n",
    "    plot_countries(df_confirmed, countries, ls=ls)\n",
    "\n",
    "x = np.linspace(0, plt.xlim()[1] - 1)\n",
    "ax.plot(x, 100 * (1.33) ** x, ls='--', color='k', label='33% daily growth')\n",
    "\n",
    "ax.set(title='Exponential growth of COVID-19 across countries',\n",
    "       xlabel='Days from first 100 confirmed cases',\n",
    "       ylabel='Confirmed cases', ylim=(0, 30000))\n",
    "ax.legend(bbox_to_anchor=(1.0, 1.0))\n",
    "ax.annotate(**annotate_kwargs)\n",
    "sns.despine();"
   ]
  },
  {
   "cell_type": "code",
   "execution_count": null,
   "metadata": {
    "ExecuteTime": {
     "end_time": "2020-03-14T22:49:31.296210Z",
     "start_time": "2020-03-14T22:49:30.779654Z"
    },
    "papermill": {
     "duration": 0.476602,
     "end_time": "2020-03-14T18:03:07.941207",
     "exception": false,
     "start_time": "2020-03-14T18:03:07.464605",
     "status": "completed"
    },
    "tags": []
   },
   "outputs": [],
   "source": [
    "#collapse-hide\n",
    "smooth_days = 4\n",
    "fig, ax = plt.subplots(figsize=(14, 8))\n",
    "df_confirmed['pct_change'] = (df_confirmed\n",
    "                              .groupby('country')\n",
    "                              .cases\n",
    "                              .pct_change()\n",
    "                              .rolling(smooth_days)\n",
    "                              .mean()\n",
    ")\n",
    "\n",
    "for countries, ls in zip(country_groups, line_styles):\n",
    "    (df_confirmed.set_index('country')\n",
    "                 .loc[countries]\n",
    "                 .loc[lambda x: x.cases > 100]\n",
    "                 .reset_index()\n",
    "                 .set_index('days_since_100')\n",
    "                 .groupby('country', sort=False)['pct_change']\n",
    "                 .plot(ls=ls)\n",
    "    )\n",
    "\n",
    "ax.set(ylim=(0, 1),\n",
    "       xlim=(0, 20),\n",
    "       title='Are we seeing changes in daily growth rate?',\n",
    "       xlabel='Days from first 100 confirmed cases',\n",
    "       ylabel='Daily percent change (smoothed over {} days)'.format(smooth_days),\n",
    ")\n",
    "ax.axhline(.33, ls='--', color='k')\n",
    "ax.get_yaxis().set_major_formatter(matplotlib.ticker.ScalarFormatter())\n",
    "ax.legend(bbox_to_anchor=(1.0, 1.0))\n",
    "sns.despine()\n",
    "ax.annotate(**annotate_kwargs);"
   ]
  },
  {
   "cell_type": "code",
   "execution_count": null,
   "metadata": {
    "scrolled": false
   },
   "outputs": [],
   "source": [
    "for c in ['Washington', 'New York', 'California', 'No mitigation US', 'Maryland', 'US (total)']:\n",
    "    print(c)\n",
    "    print(df_confirmed.loc[lambda x: (x.country == c) & (x.cases > 10)]['cases'])\n",
    "    df_confirmed.loc[lambda x: (x.country == f'{c}') & (x.cases > 10)].cases.plot(title=f'Confirmed: {c}')\n",
    "    plt.yscale('log')\n",
    "    plt.show()"
   ]
  },
  {
   "cell_type": "code",
   "execution_count": null,
   "metadata": {},
   "outputs": [],
   "source": [
    "country = 'US (total)'"
   ]
  },
  {
   "cell_type": "code",
   "execution_count": null,
   "metadata": {
    "ExecuteTime": {
     "end_time": "2020-03-14T22:49:35.186603Z",
     "start_time": "2020-03-14T22:49:34.702693Z"
    }
   },
   "outputs": [],
   "source": [
    "#### collapse-hide\n",
    "sns.set_palette(sns.hls_palette(8, l=.45, s=.8)) # 8 countries max\n",
    "fig, ax = plt.subplots(figsize=(12, 8))\n",
    "\n",
    "daily_growth_rate = .35\n",
    "\n",
    "# 94837 ICU beds in US as of 2015, 68% occupied as of 2005\n",
    "# https://www.ncbi.nlm.nih.gov/pmc/articles/PMC5520980/\n",
    "icu_beds = 94837\n",
    "icu_beds_free = (1 - .68)\n",
    "\n",
    "df_tmp = df_confirmed.loc[lambda x: (x.country == f'{country}') & (x.cases > 100)].cases_crit\n",
    "df_tmp.plot(ax=ax)\n",
    "\n",
    "x = np.linspace(0, 30, 30)\n",
    "pd.Series(index=pd.date_range(df_tmp.index[0], periods=30),\n",
    "          data=100*p_crit * (1 + daily_growth_rate) ** x).plot(ax=ax,ls='--', color='k', label=f'{daily_growth_rate:.0%} daily growth')\n",
    "\n",
    "ax.axhline(icu_beds, color='.3', ls='-.', label='Total ICU beds')\n",
    "ax.axhline(icu_beds * icu_beds_free, color='.5', ls=':', label='Free ICU beds')\n",
    "ax.set(yscale='log',\n",
    "       title=f'When will {country} run out of ICU beds?',\n",
    "       ylabel='Expected critical cases (assuming {:.0f}% critical)'.format(100 * p_crit),\n",
    ")\n",
    "ax.get_yaxis().set_major_formatter(matplotlib.ticker.ScalarFormatter())\n",
    "ax.legend(bbox_to_anchor=(1.0, 1.0))\n",
    "sns.despine()\n",
    "ax.annotate(**annotate_kwargs);"
   ]
  },
  {
   "cell_type": "markdown",
   "metadata": {
    "papermill": {
     "duration": 0.01302,
     "end_time": "2020-03-14T18:03:08.167506",
     "exception": false,
     "start_time": "2020-03-14T18:03:08.154486",
     "status": "completed"
    },
    "tags": []
   },
   "source": [
    "Updated daily by [GitHub Actions](https://github.com/features/actions)."
   ]
  },
  {
   "cell_type": "markdown",
   "metadata": {
    "papermill": {
     "duration": 0.012637,
     "end_time": "2020-03-14T18:03:08.192874",
     "exception": false,
     "start_time": "2020-03-14T18:03:08.180237",
     "status": "completed"
    },
    "tags": []
   },
   "source": [
    "This visualization was made by [Thomas Wiecki](https://twitter.com/twiecki)[^1].\n",
    "\n",
    "[^1]:  Data sourced from [\"2019 Novel Coronavirus COVID-19 (2019-nCoV) Data Repository by Johns Hopkins CSSE\"](https://systems.jhu.edu/research/public-health/ncov/) [GitHub repository](https://github.com/CSSEGISandData/COVID-19) and recreates the (pay-walled) plot in the [Financial Times]( https://www.ft.com/content/a26fbf7e-48f8-11ea-aeb3-955839e06441). This code is provided under the [BSD-3 License](https://github.com/twiecki/covid19/blob/master/LICENSE). Link to [original notebook](https://github.com/twiecki/covid19/blob/master/covid19_growth.ipynb)."
   ]
  }
 ],
 "metadata": {
  "kernelspec": {
   "display_name": "Python 3",
   "language": "python",
   "name": "python3"
  },
  "language_info": {
   "codemirror_mode": {
    "name": "ipython",
    "version": 3
   },
   "file_extension": ".py",
   "mimetype": "text/x-python",
   "name": "python",
   "nbconvert_exporter": "python",
   "pygments_lexer": "ipython3",
   "version": "3.7.5"
  },
  "papermill": {
   "duration": 7.926612,
   "end_time": "2020-03-14T18:03:08.210492",
   "environment_variables": {},
   "exception": null,
   "input_path": "2020-03-14-covid19_growth.ipynb",
   "output_path": "2020-03-14-covid19_growth.ipynb",
   "parameters": {},
   "start_time": "2020-03-14T18:03:00.283880",
   "version": "2.0.0"
  },
  "toc": {
   "nav_menu": {},
   "number_sections": true,
   "sideBar": true,
   "skip_h1_title": false,
   "toc_cell": false,
   "toc_position": {},
   "toc_section_display": "block",
   "toc_window_display": false
  },
  "varInspector": {
   "cols": {
    "lenName": 16,
    "lenType": 16,
    "lenVar": 40
   },
   "kernels_config": {
    "python": {
     "delete_cmd_postfix": "",
     "delete_cmd_prefix": "del ",
     "library": "var_list.py",
     "varRefreshCmd": "print(var_dic_list())"
    },
    "r": {
     "delete_cmd_postfix": ") ",
     "delete_cmd_prefix": "rm(",
     "library": "var_list.r",
     "varRefreshCmd": "cat(var_dic_list()) "
    }
   },
   "types_to_exclude": [
    "module",
    "function",
    "builtin_function_or_method",
    "instance",
    "_Feature"
   ],
   "window_display": false
  }
 },
 "nbformat": 4,
 "nbformat_minor": 2
}
