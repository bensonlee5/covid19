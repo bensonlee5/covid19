{
 "cells": [
  {
   "cell_type": "code",
   "execution_count": 2,
   "metadata": {},
   "outputs": [],
   "source": [
    "import numpy as np\n",
    "import pandas as pd\n",
    "import requests\n",
    "import io\n",
    "\n",
    "from scipy.integrate import odeint\n",
    "import matplotlib.pyplot as plt\n",
    "\n",
    "pd.set_option('display.max_rows', 500)"
   ]
  },
  {
   "cell_type": "code",
   "execution_count": 3,
   "metadata": {},
   "outputs": [],
   "source": [
    "# methodology follows Michael Lin: https://drive.google.com/file/d/1ZaiDO87me4puBte-8VytcSRtpQ3PVpkK/view\n",
    "# infected fatality rate: https://www.eurosurveillance.org/content/10.2807/1560-7917.ES.2020.25.12.2000256\n",
    "ifr = .009\n",
    "\n",
    "cfr = .02"
   ]
  },
  {
   "cell_type": "code",
   "execution_count": 5,
   "metadata": {},
   "outputs": [],
   "source": [
    "states = 'https://raw.githubusercontent.com/nytimes/covid-19-data/master/us-states.csv'\n",
    "counties = 'https://raw.githubusercontent.com/nytimes/covid-19-data/master/us-counties.csv'\n",
    "csv = requests.get(counties).text\n",
    "\n",
    "df = pd.read_csv(io.StringIO(csv), parse_dates=['date'])"
   ]
  },
  {
   "cell_type": "code",
   "execution_count": 6,
   "metadata": {},
   "outputs": [
    {
     "data": {
      "text/html": [
       "<div>\n",
       "<style scoped>\n",
       "    .dataframe tbody tr th:only-of-type {\n",
       "        vertical-align: middle;\n",
       "    }\n",
       "\n",
       "    .dataframe tbody tr th {\n",
       "        vertical-align: top;\n",
       "    }\n",
       "\n",
       "    .dataframe thead th {\n",
       "        text-align: right;\n",
       "    }\n",
       "</style>\n",
       "<table border=\"1\" class=\"dataframe\">\n",
       "  <thead>\n",
       "    <tr style=\"text-align: right;\">\n",
       "      <th></th>\n",
       "      <th>date</th>\n",
       "      <th>county</th>\n",
       "      <th>state</th>\n",
       "      <th>fips</th>\n",
       "      <th>cases</th>\n",
       "      <th>deaths</th>\n",
       "    </tr>\n",
       "  </thead>\n",
       "  <tbody>\n",
       "    <tr>\n",
       "      <th>0</th>\n",
       "      <td>2020-01-21</td>\n",
       "      <td>Snohomish</td>\n",
       "      <td>Washington</td>\n",
       "      <td>53061.0</td>\n",
       "      <td>1</td>\n",
       "      <td>0</td>\n",
       "    </tr>\n",
       "    <tr>\n",
       "      <th>1</th>\n",
       "      <td>2020-01-22</td>\n",
       "      <td>Snohomish</td>\n",
       "      <td>Washington</td>\n",
       "      <td>53061.0</td>\n",
       "      <td>1</td>\n",
       "      <td>0</td>\n",
       "    </tr>\n",
       "    <tr>\n",
       "      <th>2</th>\n",
       "      <td>2020-01-23</td>\n",
       "      <td>Snohomish</td>\n",
       "      <td>Washington</td>\n",
       "      <td>53061.0</td>\n",
       "      <td>1</td>\n",
       "      <td>0</td>\n",
       "    </tr>\n",
       "    <tr>\n",
       "      <th>3</th>\n",
       "      <td>2020-01-24</td>\n",
       "      <td>Cook</td>\n",
       "      <td>Illinois</td>\n",
       "      <td>17031.0</td>\n",
       "      <td>1</td>\n",
       "      <td>0</td>\n",
       "    </tr>\n",
       "    <tr>\n",
       "      <th>4</th>\n",
       "      <td>2020-01-24</td>\n",
       "      <td>Snohomish</td>\n",
       "      <td>Washington</td>\n",
       "      <td>53061.0</td>\n",
       "      <td>1</td>\n",
       "      <td>0</td>\n",
       "    </tr>\n",
       "  </tbody>\n",
       "</table>\n",
       "</div>"
      ],
      "text/plain": [
       "        date     county       state     fips  cases  deaths\n",
       "0 2020-01-21  Snohomish  Washington  53061.0      1       0\n",
       "1 2020-01-22  Snohomish  Washington  53061.0      1       0\n",
       "2 2020-01-23  Snohomish  Washington  53061.0      1       0\n",
       "3 2020-01-24       Cook    Illinois  17031.0      1       0\n",
       "4 2020-01-24  Snohomish  Washington  53061.0      1       0"
      ]
     },
     "execution_count": 6,
     "metadata": {},
     "output_type": "execute_result"
    }
   ],
   "source": [
    "df.head()"
   ]
  },
  {
   "cell_type": "code",
   "execution_count": 7,
   "metadata": {},
   "outputs": [
    {
     "data": {
      "text/plain": [
       "array(['Orange', 'Los Angeles', 'Santa Clara', 'San Francisco',\n",
       "       'San Diego', 'Humboldt', 'Sacramento', 'Solano', 'Marin', 'Napa',\n",
       "       'Sonoma', 'Alameda', 'Placer', 'San Mateo', 'Contra Costa', 'Yolo',\n",
       "       'Fresno', 'Madera', 'Riverside', 'Santa Cruz', 'Shasta',\n",
       "       'San Joaquin', 'Ventura', 'Stanislaus', 'Tulare', 'San Benito',\n",
       "       'San Luis Obispo', 'San Bernardino', 'Santa Barbara', 'Nevada',\n",
       "       'Kern', 'Monterey', 'Mendocino', 'Amador', 'Imperial', 'Butte',\n",
       "       'El Dorado', 'Siskiyou', 'Yuba', 'Unknown', 'Calaveras', 'Merced',\n",
       "       'Mono', 'Inyo', 'Sutter', 'Colusa', 'Kings', 'Glenn', 'Tuolumne',\n",
       "       'Alpine'], dtype=object)"
      ]
     },
     "execution_count": 7,
     "metadata": {},
     "output_type": "execute_result"
    }
   ],
   "source": [
    "df.loc[df['state'] == 'California', 'county'].unique()"
   ]
  },
  {
   "cell_type": "code",
   "execution_count": 8,
   "metadata": {},
   "outputs": [],
   "source": [
    "# df_filt = df[(df['state'] == 'California')].copy()\n",
    "df_filt = df.copy()"
   ]
  },
  {
   "cell_type": "code",
   "execution_count": 9,
   "metadata": {},
   "outputs": [],
   "source": [
    "ts_cases = df_filt.groupby('date')['cases'].sum()"
   ]
  },
  {
   "cell_type": "code",
   "execution_count": 10,
   "metadata": {},
   "outputs": [],
   "source": [
    "ts = df_filt.groupby('date')['deaths'].sum()\n",
    "# ts = ts[ts > 10]\n",
    "# ts.index = ts.index - pd.DateOffset(days=14)\n",
    "ts_growth = (ts - ts.shift(1)) / ts.shift(1)\n",
    "# ts_growth.index = ts_growth.index - pd.DateOffset(days=14)"
   ]
  },
  {
   "cell_type": "code",
   "execution_count": 11,
   "metadata": {},
   "outputs": [
    {
     "data": {
      "text/plain": [
       "date\n",
       "2020-01-21       0\n",
       "2020-01-22       0\n",
       "2020-01-23       0\n",
       "2020-01-24       0\n",
       "2020-01-25       0\n",
       "2020-01-26       0\n",
       "2020-01-27       0\n",
       "2020-01-28       0\n",
       "2020-01-29       0\n",
       "2020-01-30       0\n",
       "2020-01-31       0\n",
       "2020-02-01       0\n",
       "2020-02-02       0\n",
       "2020-02-03       0\n",
       "2020-02-04       0\n",
       "2020-02-05       0\n",
       "2020-02-06       0\n",
       "2020-02-07       0\n",
       "2020-02-08       0\n",
       "2020-02-09       0\n",
       "2020-02-10       0\n",
       "2020-02-11       0\n",
       "2020-02-12       0\n",
       "2020-02-13       0\n",
       "2020-02-14       0\n",
       "2020-02-15       0\n",
       "2020-02-16       0\n",
       "2020-02-17       0\n",
       "2020-02-18       0\n",
       "2020-02-19       0\n",
       "2020-02-20       0\n",
       "2020-02-21       0\n",
       "2020-02-22       0\n",
       "2020-02-23       0\n",
       "2020-02-24       0\n",
       "2020-02-25       0\n",
       "2020-02-26       0\n",
       "2020-02-27       0\n",
       "2020-02-28       0\n",
       "2020-02-29       1\n",
       "2020-03-01       3\n",
       "2020-03-02       6\n",
       "2020-03-03      10\n",
       "2020-03-04      12\n",
       "2020-03-05      12\n",
       "2020-03-06      15\n",
       "2020-03-07      19\n",
       "2020-03-08      22\n",
       "2020-03-09      26\n",
       "2020-03-10      31\n",
       "2020-03-11      37\n",
       "2020-03-12      43\n",
       "2020-03-13      50\n",
       "2020-03-14      60\n",
       "2020-03-15      68\n",
       "2020-03-16      91\n",
       "2020-03-17     116\n",
       "2020-03-18     157\n",
       "2020-03-19     203\n",
       "2020-03-20     265\n",
       "2020-03-21     343\n",
       "2020-03-22     436\n",
       "2020-03-23     546\n",
       "2020-03-24     746\n",
       "2020-03-25    1000\n",
       "2020-03-26    1279\n",
       "2020-03-27    1652\n",
       "2020-03-28    2139\n",
       "2020-03-29    2413\n",
       "2020-03-30    2909\n",
       "Name: deaths, dtype: int64"
      ]
     },
     "execution_count": 11,
     "metadata": {},
     "output_type": "execute_result"
    }
   ],
   "source": [
    "ts"
   ]
  },
  {
   "cell_type": "code",
   "execution_count": 12,
   "metadata": {},
   "outputs": [
    {
     "data": {
      "text/plain": [
       "<matplotlib.axes._subplots.AxesSubplot at 0x7fec7b8b2a90>"
      ]
     },
     "execution_count": 12,
     "metadata": {},
     "output_type": "execute_result"
    },
    {
     "data": {
      "image/png": "[encoded data removed]",
      "text/plain": [
       "<Figure size 720x432 with 1 Axes>"
      ]
     },
     "metadata": {
      "needs_background": "light"
     },
     "output_type": "display_data"
    }
   ],
   "source": [
    "ts_growth.plot(title='Growth rate', figsize=(10, 6))"
   ]
  },
  {
   "cell_type": "code",
   "execution_count": 13,
   "metadata": {},
   "outputs": [
    {
     "name": "stdout",
     "output_type": "stream",
     "text": [
      "inf nan\n"
     ]
    }
   ],
   "source": [
    "growth_rate_mean, growth_rate_std = ts_growth.agg(['mean', 'std'])\n",
    "print(growth_rate_mean, growth_rate_std)"
   ]
  },
  {
   "cell_type": "code",
   "execution_count": 14,
   "metadata": {},
   "outputs": [
    {
     "data": {
      "text/plain": [
       "inf"
      ]
     },
     "execution_count": 14,
     "metadata": {},
     "output_type": "execute_result"
    }
   ],
   "source": [
    "(1 + growth_rate_mean) ** 7"
   ]
  },
  {
   "cell_type": "code",
   "execution_count": 15,
   "metadata": {},
   "outputs": [
    {
     "data": {
      "text/plain": [
       "date\n",
       "2020-01-21         0.000000\n",
       "2020-01-22         0.000000\n",
       "2020-01-23         0.000000\n",
       "2020-01-24         0.000000\n",
       "2020-01-25         0.000000\n",
       "2020-01-26         0.000000\n",
       "2020-01-27         0.000000\n",
       "2020-01-28         0.000000\n",
       "2020-01-29         0.000000\n",
       "2020-01-30         0.000000\n",
       "2020-01-31         0.000000\n",
       "2020-02-01         0.000000\n",
       "2020-02-02         0.000000\n",
       "2020-02-03         0.000000\n",
       "2020-02-04         0.000000\n",
       "2020-02-05         0.000000\n",
       "2020-02-06         0.000000\n",
       "2020-02-07         0.000000\n",
       "2020-02-08         0.000000\n",
       "2020-02-09         0.000000\n",
       "2020-02-10         0.000000\n",
       "2020-02-11         0.000000\n",
       "2020-02-12         0.000000\n",
       "2020-02-13         0.000000\n",
       "2020-02-14         0.000000\n",
       "2020-02-15         0.000000\n",
       "2020-02-16         0.000000\n",
       "2020-02-17         0.000000\n",
       "2020-02-18         0.000000\n",
       "2020-02-19         0.000000\n",
       "2020-02-20         0.000000\n",
       "2020-02-21         0.000000\n",
       "2020-02-22         0.000000\n",
       "2020-02-23         0.000000\n",
       "2020-02-24         0.000000\n",
       "2020-02-25         0.000000\n",
       "2020-02-26         0.000000\n",
       "2020-02-27         0.000000\n",
       "2020-02-28         0.000000\n",
       "2020-02-29       111.111111\n",
       "2020-03-01       333.333333\n",
       "2020-03-02       666.666667\n",
       "2020-03-03      1111.111111\n",
       "2020-03-04      1333.333333\n",
       "2020-03-05      1333.333333\n",
       "2020-03-06      1666.666667\n",
       "2020-03-07      2111.111111\n",
       "2020-03-08      2444.444444\n",
       "2020-03-09      2888.888889\n",
       "2020-03-10      3444.444444\n",
       "2020-03-11      4111.111111\n",
       "2020-03-12      4777.777778\n",
       "2020-03-13      5555.555556\n",
       "2020-03-14      6666.666667\n",
       "2020-03-15      7555.555556\n",
       "2020-03-16     10111.111111\n",
       "2020-03-17     12888.888889\n",
       "2020-03-18     17444.444444\n",
       "2020-03-19     22555.555556\n",
       "2020-03-20     29444.444444\n",
       "2020-03-21     38111.111111\n",
       "2020-03-22     48444.444444\n",
       "2020-03-23     60666.666667\n",
       "2020-03-24     82888.888889\n",
       "2020-03-25    111111.111111\n",
       "2020-03-26    142111.111111\n",
       "2020-03-27    183555.555556\n",
       "2020-03-28    237666.666667\n",
       "2020-03-29    268111.111111\n",
       "2020-03-30    323222.222222\n",
       "Name: deaths, dtype: float64"
      ]
     },
     "execution_count": 15,
     "metadata": {},
     "output_type": "execute_result"
    }
   ],
   "source": [
    "ts / ifr"
   ]
  },
  {
   "cell_type": "code",
   "execution_count": 16,
   "metadata": {},
   "outputs": [
    {
     "ename": "NameError",
     "evalue": "name 'average_growth_rate' is not defined",
     "output_type": "error",
     "traceback": [
      "\u001b[0;31m---------------------------------------------------------------------------\u001b[0m",
      "\u001b[0;31mNameError\u001b[0m                                 Traceback (most recent call last)",
      "\u001b[0;32m<ipython-input-16-c51146dfa08e>\u001b[0m in \u001b[0;36m<module>\u001b[0;34m\u001b[0m\n\u001b[0;32m----> 1\u001b[0;31m \u001b[0mgrowth_rate\u001b[0m \u001b[0;34m=\u001b[0m \u001b[0maverage_growth_rate\u001b[0m\u001b[0;34m\u001b[0m\u001b[0;34m\u001b[0m\u001b[0m\n\u001b[0m\u001b[1;32m      2\u001b[0m \u001b[0;31m# growth_rate = .\u001b[0m\u001b[0;34m\u001b[0m\u001b[0;34m\u001b[0m\u001b[0;34m\u001b[0m\u001b[0m\n\u001b[1;32m      3\u001b[0m \u001b[0mnum_days\u001b[0m \u001b[0;34m=\u001b[0m \u001b[0;36m14\u001b[0m\u001b[0;34m\u001b[0m\u001b[0;34m\u001b[0m\u001b[0m\n\u001b[1;32m      4\u001b[0m \u001b[0;34m\u001b[0m\u001b[0m\n\u001b[1;32m      5\u001b[0m ts_proj = pd.Series(data=(ts[-1] / ifr) * (1 + growth_rate) ** np.arange(1, num_days + 1),\n",
      "\u001b[0;31mNameError\u001b[0m: name 'average_growth_rate' is not defined"
     ]
    }
   ],
   "source": [
    "growth_rate = average_growth_rate\n",
    "# growth_rate = .\n",
    "num_days = 14\n",
    "\n",
    "ts_proj = pd.Series(data=(ts[-1] / ifr) * (1 + growth_rate) ** np.arange(1, num_days + 1),\n",
    "                    index=pd.date_range(start=ts.index.max() + pd.DateOffset(days=1), periods=num_days, freq='D'))\n",
    "                       "
   ]
  },
  {
   "cell_type": "code",
   "execution_count": 17,
   "metadata": {},
   "outputs": [
    {
     "ename": "NameError",
     "evalue": "name 'ts_proj' is not defined",
     "output_type": "error",
     "traceback": [
      "\u001b[0;31m---------------------------------------------------------------------------\u001b[0m",
      "\u001b[0;31mNameError\u001b[0m                                 Traceback (most recent call last)",
      "\u001b[0;32m<ipython-input-17-4709acf098b1>\u001b[0m in \u001b[0;36m<module>\u001b[0;34m\u001b[0m\n\u001b[0;32m----> 1\u001b[0;31m \u001b[0mts_combined\u001b[0m \u001b[0;34m=\u001b[0m \u001b[0;34m(\u001b[0m\u001b[0mts\u001b[0m \u001b[0;34m/\u001b[0m \u001b[0mifr\u001b[0m\u001b[0;34m)\u001b[0m\u001b[0;34m.\u001b[0m\u001b[0mappend\u001b[0m\u001b[0;34m(\u001b[0m\u001b[0mts_proj\u001b[0m\u001b[0;34m)\u001b[0m\u001b[0;34m\u001b[0m\u001b[0;34m\u001b[0m\u001b[0m\n\u001b[0m\u001b[1;32m      2\u001b[0m \u001b[0mts_combined\u001b[0m\u001b[0;34m.\u001b[0m\u001b[0mplot\u001b[0m\u001b[0;34m(\u001b[0m\u001b[0mtitle\u001b[0m\u001b[0;34m=\u001b[0m\u001b[0;34m'Estimated true case count'\u001b[0m\u001b[0;34m,\u001b[0m \u001b[0mfigsize\u001b[0m\u001b[0;34m=\u001b[0m\u001b[0;34m(\u001b[0m\u001b[0;36m10\u001b[0m\u001b[0;34m,\u001b[0m \u001b[0;36m6\u001b[0m\u001b[0;34m)\u001b[0m\u001b[0;34m)\u001b[0m\u001b[0;34m\u001b[0m\u001b[0;34m\u001b[0m\u001b[0m\n",
      "\u001b[0;31mNameError\u001b[0m: name 'ts_proj' is not defined"
     ]
    }
   ],
   "source": [
    "ts_combined = (ts / ifr).append(ts_proj)\n",
    "ts_combined.plot(title='Estimated true case count', figsize=(10, 6))"
   ]
  },
  {
   "cell_type": "code",
   "execution_count": 18,
   "metadata": {},
   "outputs": [
    {
     "ename": "NameError",
     "evalue": "name 'ts_combined' is not defined",
     "output_type": "error",
     "traceback": [
      "\u001b[0;31m---------------------------------------------------------------------------\u001b[0m",
      "\u001b[0;31mNameError\u001b[0m                                 Traceback (most recent call last)",
      "\u001b[0;32m<ipython-input-18-57b05b7c4239>\u001b[0m in \u001b[0;36m<module>\u001b[0;34m\u001b[0m\n\u001b[0;32m----> 1\u001b[0;31m \u001b[0mts_combined\u001b[0m\u001b[0;34m\u001b[0m\u001b[0;34m\u001b[0m\u001b[0m\n\u001b[0m",
      "\u001b[0;31mNameError\u001b[0m: name 'ts_combined' is not defined"
     ]
    }
   ],
   "source": [
    "ts_combined"
   ]
  },
  {
   "cell_type": "code",
   "execution_count": 19,
   "metadata": {},
   "outputs": [
    {
     "ename": "NameError",
     "evalue": "name 'ts_combined' is not defined",
     "output_type": "error",
     "traceback": [
      "\u001b[0;31m---------------------------------------------------------------------------\u001b[0m",
      "\u001b[0;31mNameError\u001b[0m                                 Traceback (most recent call last)",
      "\u001b[0;32m<ipython-input-19-e3362a2361b4>\u001b[0m in \u001b[0;36m<module>\u001b[0;34m\u001b[0m\n\u001b[0;32m----> 1\u001b[0;31m \u001b[0mdf_cases\u001b[0m \u001b[0;34m=\u001b[0m \u001b[0mts_combined\u001b[0m\u001b[0;34m.\u001b[0m\u001b[0mto_frame\u001b[0m\u001b[0;34m(\u001b[0m\u001b[0mname\u001b[0m\u001b[0;34m=\u001b[0m\u001b[0;34m'cases_estimate'\u001b[0m\u001b[0;34m)\u001b[0m\u001b[0;34m.\u001b[0m\u001b[0mjoin\u001b[0m\u001b[0;34m(\u001b[0m\u001b[0mts_cases\u001b[0m\u001b[0;34m.\u001b[0m\u001b[0mto_frame\u001b[0m\u001b[0;34m(\u001b[0m\u001b[0mname\u001b[0m\u001b[0;34m=\u001b[0m\u001b[0;34m'cases'\u001b[0m\u001b[0;34m)\u001b[0m\u001b[0;34m)\u001b[0m\u001b[0;34m\u001b[0m\u001b[0;34m\u001b[0m\u001b[0m\n\u001b[0m",
      "\u001b[0;31mNameError\u001b[0m: name 'ts_combined' is not defined"
     ]
    }
   ],
   "source": [
    "df_cases = ts_combined.to_frame(name='cases_estimate').join(ts_cases.to_frame(name='cases'))"
   ]
  },
  {
   "cell_type": "code",
   "execution_count": 20,
   "metadata": {},
   "outputs": [
    {
     "ename": "NameError",
     "evalue": "name 'df_cases' is not defined",
     "output_type": "error",
     "traceback": [
      "\u001b[0;31m---------------------------------------------------------------------------\u001b[0m",
      "\u001b[0;31mNameError\u001b[0m                                 Traceback (most recent call last)",
      "\u001b[0;32m<ipython-input-20-4c853f77e243>\u001b[0m in \u001b[0;36m<module>\u001b[0;34m\u001b[0m\n\u001b[0;32m----> 1\u001b[0;31m \u001b[0mdf_cases\u001b[0m\u001b[0;34m\u001b[0m\u001b[0;34m\u001b[0m\u001b[0m\n\u001b[0m",
      "\u001b[0;31mNameError\u001b[0m: name 'df_cases' is not defined"
     ]
    }
   ],
   "source": [
    "df_cases"
   ]
  },
  {
   "cell_type": "code",
   "execution_count": 21,
   "metadata": {},
   "outputs": [
    {
     "ename": "NameError",
     "evalue": "name 'df_cases' is not defined",
     "output_type": "error",
     "traceback": [
      "\u001b[0;31m---------------------------------------------------------------------------\u001b[0m",
      "\u001b[0;31mNameError\u001b[0m                                 Traceback (most recent call last)",
      "\u001b[0;32m<ipython-input-21-e437acc33f87>\u001b[0m in \u001b[0;36m<module>\u001b[0;34m\u001b[0m\n\u001b[0;32m----> 1\u001b[0;31m \u001b[0;34m(\u001b[0m\u001b[0;34m(\u001b[0m\u001b[0mdf_cases\u001b[0m\u001b[0;34m[\u001b[0m\u001b[0;34m'cases'\u001b[0m\u001b[0;34m]\u001b[0m \u001b[0;34m/\u001b[0m \u001b[0;34m(\u001b[0m\u001b[0mifr\u001b[0m \u001b[0;34m/\u001b[0m \u001b[0mcfr\u001b[0m\u001b[0;34m)\u001b[0m\u001b[0;34m)\u001b[0m \u001b[0;34m/\u001b[0m \u001b[0mdf_cases\u001b[0m\u001b[0;34m[\u001b[0m\u001b[0;34m'cases_estimate'\u001b[0m\u001b[0;34m]\u001b[0m\u001b[0;34m)\u001b[0m\u001b[0;34m.\u001b[0m\u001b[0mplot\u001b[0m\u001b[0;34m(\u001b[0m\u001b[0;34m)\u001b[0m\u001b[0;34m\u001b[0m\u001b[0;34m\u001b[0m\u001b[0m\n\u001b[0m",
      "\u001b[0;31mNameError\u001b[0m: name 'df_cases' is not defined"
     ]
    }
   ],
   "source": [
    "((df_cases['cases'] / (ifr / cfr)) / df_cases['cases_estimate']).plot()"
   ]
  },
  {
   "cell_type": "code",
   "execution_count": null,
   "metadata": {},
   "outputs": [],
   "source": []
  }
 ],
 "metadata": {
  "kernelspec": {
   "display_name": "Python 3",
   "language": "python",
   "name": "python3"
  },
  "language_info": {
   "codemirror_mode": {
    "name": "ipython",
    "version": 3
   },
   "file_extension": ".py",
   "mimetype": "text/x-python",
   "name": "python",
   "nbconvert_exporter": "python",
   "pygments_lexer": "ipython3",
   "version": "3.7.5"
  }
 },
 "nbformat": 4,
 "nbformat_minor": 4
}
