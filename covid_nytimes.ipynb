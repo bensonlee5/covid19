{
 "cells": [
  {
   "cell_type": "code",
   "execution_count": 255,
   "metadata": {},
   "outputs": [],
   "source": [
    "import numpy as np\n",
    "import pandas as pd\n",
    "import requests\n",
    "import io\n",
    "import networkx as nx\n",
    "import epyc\n",
    "from mpmath import polylog as Li   # use standard name\n",
    "import math\n",
    "import pycountry\n",
    "import datetime\n",
    "import pymc3 as pm\n",
    "import scipy.stats\n",
    "import scipy.optimize\n",
    "import seaborn as sns\n",
    "from scipy import signal\n",
    "\n",
    "from scipy.integrate import odeint\n",
    "import matplotlib.pyplot as plt\n",
    "\n",
    "pd.set_option('display.max_rows', 500)\n",
    "\n",
    "from epydemic import *"
   ]
  },
  {
   "cell_type": "markdown",
   "metadata": {},
   "source": [
    "## Other"
   ]
  },
  {
   "cell_type": "code",
   "execution_count": 2,
   "metadata": {},
   "outputs": [],
   "source": [
    "# methodology follows Michael Lin: https://drive.google.com/file/d/1ZaiDO87me4puBte-8VytcSRtpQ3PVpkK/view\n",
    "# infected fatality rate: https://www.eurosurveillance.org/content/10.2807/1560-7917.ES.2020.25.12.2000256\n",
    "ifr = .009\n",
    "\n",
    "cfr = .02"
   ]
  },
  {
   "cell_type": "code",
   "execution_count": 29,
   "metadata": {},
   "outputs": [],
   "source": [
    "df_pop = pd.read_csv('https://raw.githubusercontent.com/jakevdp/data-USstates/master/state-population.csv')"
   ]
  },
  {
   "cell_type": "code",
   "execution_count": 30,
   "metadata": {},
   "outputs": [],
   "source": [
    "df_pop_filt = df_pop[(df_pop['year'] == 2013) & (df_pop['ages'] == 'total')]"
   ]
  },
  {
   "cell_type": "code",
   "execution_count": 35,
   "metadata": {},
   "outputs": [],
   "source": [
    "df_raw = pd.read_csv(\"https://raw.githubusercontent.com/nytimes/covid-19-data/master/us-states.csv\", dtype={'fips': str})\n",
    "\n",
    "df_raw[\"ISO3166_1\"] = \"US\"\n",
    "\n",
    "subdivisions = {k.name: k.code.replace(\"US-\", \"\") for k in pycountry.subdivisions.get(country_code=\"US\")}\n",
    "\n",
    "df_raw[\"ISO3166_2\"] = df_raw[\"state\"].apply(lambda x: subdivisions.get(x))\n",
    "\n",
    "# df_raw = df_raw.sort_values(by=['county', 'date', 'ISO3166_1', 'ISO3166_2'])\n",
    "# df_raw['cases_since_prev_day'] = df_raw.groupby(['county','state'])['cases'].diff().fillna(0).astype(int)\n",
    "# df_raw['deaths_since_prev_day'] = df_raw.groupby(['county','state'])['deaths'].diff().fillna(0).astype(int)\n",
    "\n",
    "# df_raw[\"Last_Update_Date\"] = datetime.datetime.utcnow()"
   ]
  },
  {
   "cell_type": "code",
   "execution_count": 37,
   "metadata": {},
   "outputs": [],
   "source": [
    "df = df_raw.merge(df_pop_filt[['state/region', 'population']], left_on='ISO3166_2', right_on='state/region', how='left')"
   ]
  },
  {
   "cell_type": "code",
   "execution_count": 56,
   "metadata": {},
   "outputs": [],
   "source": [
    "df['deceased_pct1M'] = df['deaths'] / df['population'] * 1000000\n",
    "\n",
    "# filter for states with sufficient deaths\n",
    "df_filt = df[df['state'].isin(df[df['deaths'] >= 10]['state'].unique())].copy()"
   ]
  },
  {
   "cell_type": "code",
   "execution_count": 63,
   "metadata": {},
   "outputs": [],
   "source": [
    "n_states = len(df_filt['state'].unique())"
   ]
  },
  {
   "cell_type": "code",
   "execution_count": 62,
   "metadata": {
    "scrolled": true
   },
   "outputs": [
    {
     "data": {
      "text/html": [
       "<div>\n",
       "<style scoped>\n",
       "    .dataframe tbody tr th:only-of-type {\n",
       "        vertical-align: middle;\n",
       "    }\n",
       "\n",
       "    .dataframe tbody tr th {\n",
       "        vertical-align: top;\n",
       "    }\n",
       "\n",
       "    .dataframe thead th {\n",
       "        text-align: right;\n",
       "    }\n",
       "</style>\n",
       "<table border=\"1\" class=\"dataframe\">\n",
       "  <thead>\n",
       "    <tr style=\"text-align: right;\">\n",
       "      <th></th>\n",
       "      <th>date</th>\n",
       "      <th>state</th>\n",
       "      <th>fips</th>\n",
       "      <th>cases</th>\n",
       "      <th>deaths</th>\n",
       "      <th>ISO3166_1</th>\n",
       "      <th>ISO3166_2</th>\n",
       "      <th>state/region</th>\n",
       "      <th>population</th>\n",
       "      <th>deceased_pct1M</th>\n",
       "    </tr>\n",
       "  </thead>\n",
       "  <tbody>\n",
       "    <tr>\n",
       "      <th>1752</th>\n",
       "      <td>2020-04-03</td>\n",
       "      <td>New York</td>\n",
       "      <td>36</td>\n",
       "      <td>102870</td>\n",
       "      <td>2935</td>\n",
       "      <td>US</td>\n",
       "      <td>NY</td>\n",
       "      <td>NY</td>\n",
       "      <td>19651127.0</td>\n",
       "      <td>149.355302</td>\n",
       "    </tr>\n",
       "    <tr>\n",
       "      <th>1738</th>\n",
       "      <td>2020-04-03</td>\n",
       "      <td>Louisiana</td>\n",
       "      <td>22</td>\n",
       "      <td>10297</td>\n",
       "      <td>370</td>\n",
       "      <td>US</td>\n",
       "      <td>LA</td>\n",
       "      <td>LA</td>\n",
       "      <td>4625470.0</td>\n",
       "      <td>79.991871</td>\n",
       "    </tr>\n",
       "    <tr>\n",
       "      <th>1750</th>\n",
       "      <td>2020-04-03</td>\n",
       "      <td>New Jersey</td>\n",
       "      <td>34</td>\n",
       "      <td>29895</td>\n",
       "      <td>647</td>\n",
       "      <td>US</td>\n",
       "      <td>NJ</td>\n",
       "      <td>NJ</td>\n",
       "      <td>8899339.0</td>\n",
       "      <td>72.702029</td>\n",
       "    </tr>\n",
       "    <tr>\n",
       "      <th>1742</th>\n",
       "      <td>2020-04-03</td>\n",
       "      <td>Michigan</td>\n",
       "      <td>26</td>\n",
       "      <td>12670</td>\n",
       "      <td>478</td>\n",
       "      <td>US</td>\n",
       "      <td>MI</td>\n",
       "      <td>MI</td>\n",
       "      <td>9895622.0</td>\n",
       "      <td>48.304189</td>\n",
       "    </tr>\n",
       "    <tr>\n",
       "      <th>1770</th>\n",
       "      <td>2020-04-03</td>\n",
       "      <td>Washington</td>\n",
       "      <td>53</td>\n",
       "      <td>6966</td>\n",
       "      <td>293</td>\n",
       "      <td>US</td>\n",
       "      <td>WA</td>\n",
       "      <td>WA</td>\n",
       "      <td>6971406.0</td>\n",
       "      <td>42.028825</td>\n",
       "    </tr>\n",
       "    <tr>\n",
       "      <th>1725</th>\n",
       "      <td>2020-04-03</td>\n",
       "      <td>Connecticut</td>\n",
       "      <td>09</td>\n",
       "      <td>4915</td>\n",
       "      <td>132</td>\n",
       "      <td>US</td>\n",
       "      <td>CT</td>\n",
       "      <td>CT</td>\n",
       "      <td>3596080.0</td>\n",
       "      <td>36.706636</td>\n",
       "    </tr>\n",
       "    <tr>\n",
       "      <th>1741</th>\n",
       "      <td>2020-04-03</td>\n",
       "      <td>Massachusetts</td>\n",
       "      <td>25</td>\n",
       "      <td>10402</td>\n",
       "      <td>192</td>\n",
       "      <td>US</td>\n",
       "      <td>MA</td>\n",
       "      <td>MA</td>\n",
       "      <td>6692824.0</td>\n",
       "      <td>28.687442</td>\n",
       "    </tr>\n",
       "    <tr>\n",
       "      <th>1767</th>\n",
       "      <td>2020-04-03</td>\n",
       "      <td>Vermont</td>\n",
       "      <td>50</td>\n",
       "      <td>389</td>\n",
       "      <td>17</td>\n",
       "      <td>US</td>\n",
       "      <td>VT</td>\n",
       "      <td>VT</td>\n",
       "      <td>626630.0</td>\n",
       "      <td>27.129247</td>\n",
       "    </tr>\n",
       "    <tr>\n",
       "      <th>1727</th>\n",
       "      <td>2020-04-03</td>\n",
       "      <td>District of Columbia</td>\n",
       "      <td>11</td>\n",
       "      <td>757</td>\n",
       "      <td>15</td>\n",
       "      <td>US</td>\n",
       "      <td>DC</td>\n",
       "      <td>DC</td>\n",
       "      <td>646449.0</td>\n",
       "      <td>23.203687</td>\n",
       "    </tr>\n",
       "    <tr>\n",
       "      <th>1724</th>\n",
       "      <td>2020-04-03</td>\n",
       "      <td>Colorado</td>\n",
       "      <td>08</td>\n",
       "      <td>4182</td>\n",
       "      <td>110</td>\n",
       "      <td>US</td>\n",
       "      <td>CO</td>\n",
       "      <td>CO</td>\n",
       "      <td>5268367.0</td>\n",
       "      <td>20.879335</td>\n",
       "    </tr>\n",
       "    <tr>\n",
       "      <th>1729</th>\n",
       "      <td>2020-04-03</td>\n",
       "      <td>Georgia</td>\n",
       "      <td>13</td>\n",
       "      <td>5967</td>\n",
       "      <td>198</td>\n",
       "      <td>US</td>\n",
       "      <td>GA</td>\n",
       "      <td>GA</td>\n",
       "      <td>9992167.0</td>\n",
       "      <td>19.815521</td>\n",
       "    </tr>\n",
       "    <tr>\n",
       "      <th>1733</th>\n",
       "      <td>2020-04-03</td>\n",
       "      <td>Illinois</td>\n",
       "      <td>17</td>\n",
       "      <td>8904</td>\n",
       "      <td>211</td>\n",
       "      <td>US</td>\n",
       "      <td>IL</td>\n",
       "      <td>IL</td>\n",
       "      <td>12882135.0</td>\n",
       "      <td>16.379273</td>\n",
       "    </tr>\n",
       "    <tr>\n",
       "      <th>1734</th>\n",
       "      <td>2020-04-03</td>\n",
       "      <td>Indiana</td>\n",
       "      <td>18</td>\n",
       "      <td>3437</td>\n",
       "      <td>102</td>\n",
       "      <td>US</td>\n",
       "      <td>IN</td>\n",
       "      <td>IN</td>\n",
       "      <td>6570902.0</td>\n",
       "      <td>15.522983</td>\n",
       "    </tr>\n",
       "    <tr>\n",
       "      <th>1748</th>\n",
       "      <td>2020-04-03</td>\n",
       "      <td>Nevada</td>\n",
       "      <td>32</td>\n",
       "      <td>1549</td>\n",
       "      <td>43</td>\n",
       "      <td>US</td>\n",
       "      <td>NV</td>\n",
       "      <td>NV</td>\n",
       "      <td>2790136.0</td>\n",
       "      <td>15.411435</td>\n",
       "    </tr>\n",
       "    <tr>\n",
       "      <th>1726</th>\n",
       "      <td>2020-04-03</td>\n",
       "      <td>Delaware</td>\n",
       "      <td>10</td>\n",
       "      <td>450</td>\n",
       "      <td>14</td>\n",
       "      <td>US</td>\n",
       "      <td>DE</td>\n",
       "      <td>DE</td>\n",
       "      <td>925749.0</td>\n",
       "      <td>15.122890</td>\n",
       "    </tr>\n",
       "    <tr>\n",
       "      <th>1761</th>\n",
       "      <td>2020-04-03</td>\n",
       "      <td>Rhode Island</td>\n",
       "      <td>44</td>\n",
       "      <td>711</td>\n",
       "      <td>14</td>\n",
       "      <td>US</td>\n",
       "      <td>RI</td>\n",
       "      <td>RI</td>\n",
       "      <td>1051511.0</td>\n",
       "      <td>13.314174</td>\n",
       "    </tr>\n",
       "    <tr>\n",
       "      <th>1757</th>\n",
       "      <td>2020-04-03</td>\n",
       "      <td>Oklahoma</td>\n",
       "      <td>40</td>\n",
       "      <td>988</td>\n",
       "      <td>38</td>\n",
       "      <td>US</td>\n",
       "      <td>OK</td>\n",
       "      <td>OK</td>\n",
       "      <td>3850568.0</td>\n",
       "      <td>9.868674</td>\n",
       "    </tr>\n",
       "    <tr>\n",
       "      <th>1744</th>\n",
       "      <td>2020-04-03</td>\n",
       "      <td>Mississippi</td>\n",
       "      <td>28</td>\n",
       "      <td>1358</td>\n",
       "      <td>29</td>\n",
       "      <td>US</td>\n",
       "      <td>MS</td>\n",
       "      <td>MS</td>\n",
       "      <td>2991207.0</td>\n",
       "      <td>9.695083</td>\n",
       "    </tr>\n",
       "    <tr>\n",
       "      <th>1728</th>\n",
       "      <td>2020-04-03</td>\n",
       "      <td>Florida</td>\n",
       "      <td>12</td>\n",
       "      <td>10260</td>\n",
       "      <td>169</td>\n",
       "      <td>US</td>\n",
       "      <td>FL</td>\n",
       "      <td>FL</td>\n",
       "      <td>19552860.0</td>\n",
       "      <td>8.643237</td>\n",
       "    </tr>\n",
       "    <tr>\n",
       "      <th>1772</th>\n",
       "      <td>2020-04-03</td>\n",
       "      <td>Wisconsin</td>\n",
       "      <td>55</td>\n",
       "      <td>1916</td>\n",
       "      <td>49</td>\n",
       "      <td>US</td>\n",
       "      <td>WI</td>\n",
       "      <td>WI</td>\n",
       "      <td>5742713.0</td>\n",
       "      <td>8.532552</td>\n",
       "    </tr>\n",
       "    <tr>\n",
       "      <th>1759</th>\n",
       "      <td>2020-04-03</td>\n",
       "      <td>Pennsylvania</td>\n",
       "      <td>42</td>\n",
       "      <td>8420</td>\n",
       "      <td>102</td>\n",
       "      <td>US</td>\n",
       "      <td>PA</td>\n",
       "      <td>PA</td>\n",
       "      <td>12773801.0</td>\n",
       "      <td>7.985094</td>\n",
       "    </tr>\n",
       "    <tr>\n",
       "      <th>1756</th>\n",
       "      <td>2020-04-03</td>\n",
       "      <td>Ohio</td>\n",
       "      <td>39</td>\n",
       "      <td>3312</td>\n",
       "      <td>91</td>\n",
       "      <td>US</td>\n",
       "      <td>OH</td>\n",
       "      <td>OH</td>\n",
       "      <td>11570808.0</td>\n",
       "      <td>7.864619</td>\n",
       "    </tr>\n",
       "    <tr>\n",
       "      <th>1719</th>\n",
       "      <td>2020-04-03</td>\n",
       "      <td>Alabama</td>\n",
       "      <td>01</td>\n",
       "      <td>1535</td>\n",
       "      <td>38</td>\n",
       "      <td>US</td>\n",
       "      <td>AL</td>\n",
       "      <td>AL</td>\n",
       "      <td>4833722.0</td>\n",
       "      <td>7.861437</td>\n",
       "    </tr>\n",
       "    <tr>\n",
       "      <th>1737</th>\n",
       "      <td>2020-04-03</td>\n",
       "      <td>Kentucky</td>\n",
       "      <td>21</td>\n",
       "      <td>770</td>\n",
       "      <td>34</td>\n",
       "      <td>US</td>\n",
       "      <td>KY</td>\n",
       "      <td>KY</td>\n",
       "      <td>4395295.0</td>\n",
       "      <td>7.735544</td>\n",
       "    </tr>\n",
       "    <tr>\n",
       "      <th>1723</th>\n",
       "      <td>2020-04-03</td>\n",
       "      <td>California</td>\n",
       "      <td>06</td>\n",
       "      <td>12569</td>\n",
       "      <td>282</td>\n",
       "      <td>US</td>\n",
       "      <td>CA</td>\n",
       "      <td>CA</td>\n",
       "      <td>38332521.0</td>\n",
       "      <td>7.356678</td>\n",
       "    </tr>\n",
       "    <tr>\n",
       "      <th>1762</th>\n",
       "      <td>2020-04-03</td>\n",
       "      <td>South Carolina</td>\n",
       "      <td>45</td>\n",
       "      <td>1700</td>\n",
       "      <td>34</td>\n",
       "      <td>US</td>\n",
       "      <td>SC</td>\n",
       "      <td>SC</td>\n",
       "      <td>4774839.0</td>\n",
       "      <td>7.120659</td>\n",
       "    </tr>\n",
       "    <tr>\n",
       "      <th>1740</th>\n",
       "      <td>2020-04-03</td>\n",
       "      <td>Maryland</td>\n",
       "      <td>24</td>\n",
       "      <td>2758</td>\n",
       "      <td>42</td>\n",
       "      <td>US</td>\n",
       "      <td>MD</td>\n",
       "      <td>MD</td>\n",
       "      <td>5928814.0</td>\n",
       "      <td>7.084048</td>\n",
       "    </tr>\n",
       "    <tr>\n",
       "      <th>1736</th>\n",
       "      <td>2020-04-03</td>\n",
       "      <td>Kansas</td>\n",
       "      <td>20</td>\n",
       "      <td>624</td>\n",
       "      <td>19</td>\n",
       "      <td>US</td>\n",
       "      <td>KS</td>\n",
       "      <td>KS</td>\n",
       "      <td>2893957.0</td>\n",
       "      <td>6.565405</td>\n",
       "    </tr>\n",
       "    <tr>\n",
       "      <th>1732</th>\n",
       "      <td>2020-04-03</td>\n",
       "      <td>Idaho</td>\n",
       "      <td>16</td>\n",
       "      <td>1013</td>\n",
       "      <td>10</td>\n",
       "      <td>US</td>\n",
       "      <td>ID</td>\n",
       "      <td>ID</td>\n",
       "      <td>1612136.0</td>\n",
       "      <td>6.202951</td>\n",
       "    </tr>\n",
       "    <tr>\n",
       "      <th>1721</th>\n",
       "      <td>2020-04-03</td>\n",
       "      <td>Arizona</td>\n",
       "      <td>04</td>\n",
       "      <td>1769</td>\n",
       "      <td>41</td>\n",
       "      <td>US</td>\n",
       "      <td>AZ</td>\n",
       "      <td>AZ</td>\n",
       "      <td>6626624.0</td>\n",
       "      <td>6.187163</td>\n",
       "    </tr>\n",
       "    <tr>\n",
       "      <th>1758</th>\n",
       "      <td>2020-04-03</td>\n",
       "      <td>Oregon</td>\n",
       "      <td>41</td>\n",
       "      <td>899</td>\n",
       "      <td>22</td>\n",
       "      <td>US</td>\n",
       "      <td>OR</td>\n",
       "      <td>OR</td>\n",
       "      <td>3930065.0</td>\n",
       "      <td>5.597872</td>\n",
       "    </tr>\n",
       "    <tr>\n",
       "      <th>1769</th>\n",
       "      <td>2020-04-03</td>\n",
       "      <td>Virginia</td>\n",
       "      <td>51</td>\n",
       "      <td>2012</td>\n",
       "      <td>46</td>\n",
       "      <td>US</td>\n",
       "      <td>VA</td>\n",
       "      <td>VA</td>\n",
       "      <td>8260405.0</td>\n",
       "      <td>5.568734</td>\n",
       "    </tr>\n",
       "    <tr>\n",
       "      <th>1764</th>\n",
       "      <td>2020-04-03</td>\n",
       "      <td>Tennessee</td>\n",
       "      <td>47</td>\n",
       "      <td>2913</td>\n",
       "      <td>36</td>\n",
       "      <td>US</td>\n",
       "      <td>TN</td>\n",
       "      <td>TN</td>\n",
       "      <td>6495978.0</td>\n",
       "      <td>5.541891</td>\n",
       "    </tr>\n",
       "    <tr>\n",
       "      <th>1745</th>\n",
       "      <td>2020-04-03</td>\n",
       "      <td>Missouri</td>\n",
       "      <td>29</td>\n",
       "      <td>2113</td>\n",
       "      <td>31</td>\n",
       "      <td>US</td>\n",
       "      <td>MO</td>\n",
       "      <td>MO</td>\n",
       "      <td>6044171.0</td>\n",
       "      <td>5.128908</td>\n",
       "    </tr>\n",
       "    <tr>\n",
       "      <th>1751</th>\n",
       "      <td>2020-04-03</td>\n",
       "      <td>New Mexico</td>\n",
       "      <td>35</td>\n",
       "      <td>495</td>\n",
       "      <td>10</td>\n",
       "      <td>US</td>\n",
       "      <td>NM</td>\n",
       "      <td>NM</td>\n",
       "      <td>2085287.0</td>\n",
       "      <td>4.795503</td>\n",
       "    </tr>\n",
       "    <tr>\n",
       "      <th>1760</th>\n",
       "      <td>2020-04-03</td>\n",
       "      <td>Puerto Rico</td>\n",
       "      <td>72</td>\n",
       "      <td>378</td>\n",
       "      <td>15</td>\n",
       "      <td>US</td>\n",
       "      <td>PR</td>\n",
       "      <td>PR</td>\n",
       "      <td>3615086.0</td>\n",
       "      <td>4.149279</td>\n",
       "    </tr>\n",
       "    <tr>\n",
       "      <th>1743</th>\n",
       "      <td>2020-04-03</td>\n",
       "      <td>Minnesota</td>\n",
       "      <td>27</td>\n",
       "      <td>789</td>\n",
       "      <td>22</td>\n",
       "      <td>US</td>\n",
       "      <td>MN</td>\n",
       "      <td>MN</td>\n",
       "      <td>5420380.0</td>\n",
       "      <td>4.058756</td>\n",
       "    </tr>\n",
       "    <tr>\n",
       "      <th>1722</th>\n",
       "      <td>2020-04-03</td>\n",
       "      <td>Arkansas</td>\n",
       "      <td>05</td>\n",
       "      <td>738</td>\n",
       "      <td>12</td>\n",
       "      <td>US</td>\n",
       "      <td>AR</td>\n",
       "      <td>AR</td>\n",
       "      <td>2959373.0</td>\n",
       "      <td>4.054913</td>\n",
       "    </tr>\n",
       "    <tr>\n",
       "      <th>1765</th>\n",
       "      <td>2020-04-03</td>\n",
       "      <td>Texas</td>\n",
       "      <td>48</td>\n",
       "      <td>5669</td>\n",
       "      <td>97</td>\n",
       "      <td>US</td>\n",
       "      <td>TX</td>\n",
       "      <td>TX</td>\n",
       "      <td>26448193.0</td>\n",
       "      <td>3.667547</td>\n",
       "    </tr>\n",
       "    <tr>\n",
       "      <th>1735</th>\n",
       "      <td>2020-04-03</td>\n",
       "      <td>Iowa</td>\n",
       "      <td>19</td>\n",
       "      <td>699</td>\n",
       "      <td>11</td>\n",
       "      <td>US</td>\n",
       "      <td>IA</td>\n",
       "      <td>IA</td>\n",
       "      <td>3090416.0</td>\n",
       "      <td>3.559391</td>\n",
       "    </tr>\n",
       "    <tr>\n",
       "      <th>1753</th>\n",
       "      <td>2020-04-03</td>\n",
       "      <td>North Carolina</td>\n",
       "      <td>37</td>\n",
       "      <td>2093</td>\n",
       "      <td>19</td>\n",
       "      <td>US</td>\n",
       "      <td>NC</td>\n",
       "      <td>NC</td>\n",
       "      <td>9848060.0</td>\n",
       "      <td>1.929314</td>\n",
       "    </tr>\n",
       "  </tbody>\n",
       "</table>\n",
       "</div>"
      ],
      "text/plain": [
       "            date                 state fips   cases  deaths ISO3166_1  \\\n",
       "1752  2020-04-03              New York   36  102870    2935        US   \n",
       "1738  2020-04-03             Louisiana   22   10297     370        US   \n",
       "1750  2020-04-03            New Jersey   34   29895     647        US   \n",
       "1742  2020-04-03              Michigan   26   12670     478        US   \n",
       "1770  2020-04-03            Washington   53    6966     293        US   \n",
       "1725  2020-04-03           Connecticut   09    4915     132        US   \n",
       "1741  2020-04-03         Massachusetts   25   10402     192        US   \n",
       "1767  2020-04-03               Vermont   50     389      17        US   \n",
       "1727  2020-04-03  District of Columbia   11     757      15        US   \n",
       "1724  2020-04-03              Colorado   08    4182     110        US   \n",
       "1729  2020-04-03               Georgia   13    5967     198        US   \n",
       "1733  2020-04-03              Illinois   17    8904     211        US   \n",
       "1734  2020-04-03               Indiana   18    3437     102        US   \n",
       "1748  2020-04-03                Nevada   32    1549      43        US   \n",
       "1726  2020-04-03              Delaware   10     450      14        US   \n",
       "1761  2020-04-03          Rhode Island   44     711      14        US   \n",
       "1757  2020-04-03              Oklahoma   40     988      38        US   \n",
       "1744  2020-04-03           Mississippi   28    1358      29        US   \n",
       "1728  2020-04-03               Florida   12   10260     169        US   \n",
       "1772  2020-04-03             Wisconsin   55    1916      49        US   \n",
       "1759  2020-04-03          Pennsylvania   42    8420     102        US   \n",
       "1756  2020-04-03                  Ohio   39    3312      91        US   \n",
       "1719  2020-04-03               Alabama   01    1535      38        US   \n",
       "1737  2020-04-03              Kentucky   21     770      34        US   \n",
       "1723  2020-04-03            California   06   12569     282        US   \n",
       "1762  2020-04-03        South Carolina   45    1700      34        US   \n",
       "1740  2020-04-03              Maryland   24    2758      42        US   \n",
       "1736  2020-04-03                Kansas   20     624      19        US   \n",
       "1732  2020-04-03                 Idaho   16    1013      10        US   \n",
       "1721  2020-04-03               Arizona   04    1769      41        US   \n",
       "1758  2020-04-03                Oregon   41     899      22        US   \n",
       "1769  2020-04-03              Virginia   51    2012      46        US   \n",
       "1764  2020-04-03             Tennessee   47    2913      36        US   \n",
       "1745  2020-04-03              Missouri   29    2113      31        US   \n",
       "1751  2020-04-03            New Mexico   35     495      10        US   \n",
       "1760  2020-04-03           Puerto Rico   72     378      15        US   \n",
       "1743  2020-04-03             Minnesota   27     789      22        US   \n",
       "1722  2020-04-03              Arkansas   05     738      12        US   \n",
       "1765  2020-04-03                 Texas   48    5669      97        US   \n",
       "1735  2020-04-03                  Iowa   19     699      11        US   \n",
       "1753  2020-04-03        North Carolina   37    2093      19        US   \n",
       "\n",
       "     ISO3166_2 state/region  population  deceased_pct1M  \n",
       "1752        NY           NY  19651127.0      149.355302  \n",
       "1738        LA           LA   4625470.0       79.991871  \n",
       "1750        NJ           NJ   8899339.0       72.702029  \n",
       "1742        MI           MI   9895622.0       48.304189  \n",
       "1770        WA           WA   6971406.0       42.028825  \n",
       "1725        CT           CT   3596080.0       36.706636  \n",
       "1741        MA           MA   6692824.0       28.687442  \n",
       "1767        VT           VT    626630.0       27.129247  \n",
       "1727        DC           DC    646449.0       23.203687  \n",
       "1724        CO           CO   5268367.0       20.879335  \n",
       "1729        GA           GA   9992167.0       19.815521  \n",
       "1733        IL           IL  12882135.0       16.379273  \n",
       "1734        IN           IN   6570902.0       15.522983  \n",
       "1748        NV           NV   2790136.0       15.411435  \n",
       "1726        DE           DE    925749.0       15.122890  \n",
       "1761        RI           RI   1051511.0       13.314174  \n",
       "1757        OK           OK   3850568.0        9.868674  \n",
       "1744        MS           MS   2991207.0        9.695083  \n",
       "1728        FL           FL  19552860.0        8.643237  \n",
       "1772        WI           WI   5742713.0        8.532552  \n",
       "1759        PA           PA  12773801.0        7.985094  \n",
       "1756        OH           OH  11570808.0        7.864619  \n",
       "1719        AL           AL   4833722.0        7.861437  \n",
       "1737        KY           KY   4395295.0        7.735544  \n",
       "1723        CA           CA  38332521.0        7.356678  \n",
       "1762        SC           SC   4774839.0        7.120659  \n",
       "1740        MD           MD   5928814.0        7.084048  \n",
       "1736        KS           KS   2893957.0        6.565405  \n",
       "1732        ID           ID   1612136.0        6.202951  \n",
       "1721        AZ           AZ   6626624.0        6.187163  \n",
       "1758        OR           OR   3930065.0        5.597872  \n",
       "1769        VA           VA   8260405.0        5.568734  \n",
       "1764        TN           TN   6495978.0        5.541891  \n",
       "1745        MO           MO   6044171.0        5.128908  \n",
       "1751        NM           NM   2085287.0        4.795503  \n",
       "1760        PR           PR   3615086.0        4.149279  \n",
       "1743        MN           MN   5420380.0        4.058756  \n",
       "1722        AR           AR   2959373.0        4.054913  \n",
       "1765        TX           TX  26448193.0        3.667547  \n",
       "1735        IA           IA   3090416.0        3.559391  \n",
       "1753        NC           NC   9848060.0        1.929314  "
      ]
     },
     "execution_count": 62,
     "metadata": {},
     "output_type": "execute_result"
    }
   ],
   "source": [
    "df_filt[df_filt['date'] == df_filt['date'].max()].sort_values(by='deceased_pct1M', ascending=False)"
   ]
  },
  {
   "cell_type": "code",
   "execution_count": 45,
   "metadata": {},
   "outputs": [
    {
     "data": {
      "text/html": [
       "<div>\n",
       "<style scoped>\n",
       "    .dataframe tbody tr th:only-of-type {\n",
       "        vertical-align: middle;\n",
       "    }\n",
       "\n",
       "    .dataframe tbody tr th {\n",
       "        vertical-align: top;\n",
       "    }\n",
       "\n",
       "    .dataframe thead th {\n",
       "        text-align: right;\n",
       "    }\n",
       "</style>\n",
       "<table border=\"1\" class=\"dataframe\">\n",
       "  <thead>\n",
       "    <tr style=\"text-align: right;\">\n",
       "      <th>state/region</th>\n",
       "      <th>AK</th>\n",
       "      <th>AL</th>\n",
       "      <th>AR</th>\n",
       "      <th>AZ</th>\n",
       "      <th>CA</th>\n",
       "      <th>CO</th>\n",
       "      <th>CT</th>\n",
       "      <th>DC</th>\n",
       "      <th>DE</th>\n",
       "      <th>FL</th>\n",
       "      <th>...</th>\n",
       "      <th>SD</th>\n",
       "      <th>TN</th>\n",
       "      <th>TX</th>\n",
       "      <th>UT</th>\n",
       "      <th>VA</th>\n",
       "      <th>VT</th>\n",
       "      <th>WA</th>\n",
       "      <th>WI</th>\n",
       "      <th>WV</th>\n",
       "      <th>WY</th>\n",
       "    </tr>\n",
       "    <tr>\n",
       "      <th>date</th>\n",
       "      <th></th>\n",
       "      <th></th>\n",
       "      <th></th>\n",
       "      <th></th>\n",
       "      <th></th>\n",
       "      <th></th>\n",
       "      <th></th>\n",
       "      <th></th>\n",
       "      <th></th>\n",
       "      <th></th>\n",
       "      <th></th>\n",
       "      <th></th>\n",
       "      <th></th>\n",
       "      <th></th>\n",
       "      <th></th>\n",
       "      <th></th>\n",
       "      <th></th>\n",
       "      <th></th>\n",
       "      <th></th>\n",
       "      <th></th>\n",
       "      <th></th>\n",
       "    </tr>\n",
       "  </thead>\n",
       "  <tbody>\n",
       "    <tr>\n",
       "      <th>2020-03-25</th>\n",
       "      <td>0.0000</td>\n",
       "      <td>0.206880</td>\n",
       "      <td>0.675819</td>\n",
       "      <td>0.905438</td>\n",
       "      <td>1.747863</td>\n",
       "      <td>3.606431</td>\n",
       "      <td>5.283531</td>\n",
       "      <td>4.640737</td>\n",
       "      <td>0.000000</td>\n",
       "      <td>1.176299</td>\n",
       "      <td>...</td>\n",
       "      <td>1.183604</td>\n",
       "      <td>0.461824</td>\n",
       "      <td>0.453717</td>\n",
       "      <td>0.344724</td>\n",
       "      <td>1.089535</td>\n",
       "      <td>12.766704</td>\n",
       "      <td>18.647601</td>\n",
       "      <td>1.218936</td>\n",
       "      <td>0.000000</td>\n",
       "      <td>0.0</td>\n",
       "    </tr>\n",
       "    <tr>\n",
       "      <th>2020-03-26</th>\n",
       "      <td>0.0000</td>\n",
       "      <td>0.620640</td>\n",
       "      <td>1.013728</td>\n",
       "      <td>1.207251</td>\n",
       "      <td>2.139176</td>\n",
       "      <td>4.555491</td>\n",
       "      <td>5.839692</td>\n",
       "      <td>4.640737</td>\n",
       "      <td>1.080206</td>\n",
       "      <td>1.483159</td>\n",
       "      <td>...</td>\n",
       "      <td>1.183604</td>\n",
       "      <td>0.461824</td>\n",
       "      <td>0.794005</td>\n",
       "      <td>0.344724</td>\n",
       "      <td>1.694832</td>\n",
       "      <td>14.362542</td>\n",
       "      <td>21.659906</td>\n",
       "      <td>1.741337</td>\n",
       "      <td>0.000000</td>\n",
       "      <td>0.0</td>\n",
       "    </tr>\n",
       "    <tr>\n",
       "      <th>2020-03-27</th>\n",
       "      <td>1.3603</td>\n",
       "      <td>0.827520</td>\n",
       "      <td>1.013728</td>\n",
       "      <td>2.263596</td>\n",
       "      <td>2.660926</td>\n",
       "      <td>5.884176</td>\n",
       "      <td>7.508176</td>\n",
       "      <td>6.187650</td>\n",
       "      <td>2.160413</td>\n",
       "      <td>2.352597</td>\n",
       "      <td>...</td>\n",
       "      <td>1.183604</td>\n",
       "      <td>0.923648</td>\n",
       "      <td>0.869625</td>\n",
       "      <td>0.689448</td>\n",
       "      <td>1.694832</td>\n",
       "      <td>15.958381</td>\n",
       "      <td>25.389426</td>\n",
       "      <td>2.786140</td>\n",
       "      <td>0.000000</td>\n",
       "      <td>0.0</td>\n",
       "    </tr>\n",
       "    <tr>\n",
       "      <th>2020-03-28</th>\n",
       "      <td>1.3603</td>\n",
       "      <td>0.827520</td>\n",
       "      <td>1.689547</td>\n",
       "      <td>2.263596</td>\n",
       "      <td>3.156589</td>\n",
       "      <td>8.351734</td>\n",
       "      <td>9.176659</td>\n",
       "      <td>6.187650</td>\n",
       "      <td>5.401032</td>\n",
       "      <td>2.864031</td>\n",
       "      <td>...</td>\n",
       "      <td>1.183604</td>\n",
       "      <td>0.923648</td>\n",
       "      <td>1.096483</td>\n",
       "      <td>0.689448</td>\n",
       "      <td>2.058010</td>\n",
       "      <td>19.150057</td>\n",
       "      <td>27.397630</td>\n",
       "      <td>2.960273</td>\n",
       "      <td>0.000000</td>\n",
       "      <td>0.0</td>\n",
       "    </tr>\n",
       "    <tr>\n",
       "      <th>2020-03-29</th>\n",
       "      <td>1.3603</td>\n",
       "      <td>1.034400</td>\n",
       "      <td>2.027456</td>\n",
       "      <td>2.716315</td>\n",
       "      <td>3.391376</td>\n",
       "      <td>8.921170</td>\n",
       "      <td>9.454740</td>\n",
       "      <td>6.187650</td>\n",
       "      <td>6.481238</td>\n",
       "      <td>3.017461</td>\n",
       "      <td>...</td>\n",
       "      <td>1.183604</td>\n",
       "      <td>1.077590</td>\n",
       "      <td>1.323342</td>\n",
       "      <td>0.689448</td>\n",
       "      <td>2.663308</td>\n",
       "      <td>19.150057</td>\n",
       "      <td>29.692719</td>\n",
       "      <td>2.960273</td>\n",
       "      <td>0.539286</td>\n",
       "      <td>0.0</td>\n",
       "    </tr>\n",
       "    <tr>\n",
       "      <th>2020-03-30</th>\n",
       "      <td>2.7206</td>\n",
       "      <td>2.275679</td>\n",
       "      <td>2.365366</td>\n",
       "      <td>3.018128</td>\n",
       "      <td>3.808776</td>\n",
       "      <td>9.680419</td>\n",
       "      <td>10.010901</td>\n",
       "      <td>13.922212</td>\n",
       "      <td>7.561445</td>\n",
       "      <td>3.631182</td>\n",
       "      <td>...</td>\n",
       "      <td>1.183604</td>\n",
       "      <td>2.001238</td>\n",
       "      <td>1.739249</td>\n",
       "      <td>1.378896</td>\n",
       "      <td>3.147545</td>\n",
       "      <td>19.150057</td>\n",
       "      <td>31.700922</td>\n",
       "      <td>3.482674</td>\n",
       "      <td>0.539286</td>\n",
       "      <td>0.0</td>\n",
       "    </tr>\n",
       "    <tr>\n",
       "      <th>2020-03-31</th>\n",
       "      <td>2.7206</td>\n",
       "      <td>2.689439</td>\n",
       "      <td>2.703275</td>\n",
       "      <td>3.621754</td>\n",
       "      <td>4.774014</td>\n",
       "      <td>13.097037</td>\n",
       "      <td>19.187560</td>\n",
       "      <td>13.922212</td>\n",
       "      <td>10.802064</td>\n",
       "      <td>4.347190</td>\n",
       "      <td>...</td>\n",
       "      <td>1.183604</td>\n",
       "      <td>2.001238</td>\n",
       "      <td>2.155157</td>\n",
       "      <td>1.723620</td>\n",
       "      <td>3.268605</td>\n",
       "      <td>20.745895</td>\n",
       "      <td>32.418138</td>\n",
       "      <td>4.353343</td>\n",
       "      <td>0.539286</td>\n",
       "      <td>0.0</td>\n",
       "    </tr>\n",
       "    <tr>\n",
       "      <th>2020-04-01</th>\n",
       "      <td>2.7206</td>\n",
       "      <td>5.792638</td>\n",
       "      <td>3.379094</td>\n",
       "      <td>4.376286</td>\n",
       "      <td>5.530552</td>\n",
       "      <td>15.184971</td>\n",
       "      <td>23.636849</td>\n",
       "      <td>17.016037</td>\n",
       "      <td>11.882270</td>\n",
       "      <td>5.114341</td>\n",
       "      <td>...</td>\n",
       "      <td>2.367208</td>\n",
       "      <td>3.540652</td>\n",
       "      <td>2.382015</td>\n",
       "      <td>2.413068</td>\n",
       "      <td>4.116021</td>\n",
       "      <td>25.533409</td>\n",
       "      <td>35.717329</td>\n",
       "      <td>5.746413</td>\n",
       "      <td>1.078572</td>\n",
       "      <td>0.0</td>\n",
       "    </tr>\n",
       "    <tr>\n",
       "      <th>2020-04-02</th>\n",
       "      <td>2.7206</td>\n",
       "      <td>6.620157</td>\n",
       "      <td>4.054913</td>\n",
       "      <td>5.281724</td>\n",
       "      <td>6.339265</td>\n",
       "      <td>18.221965</td>\n",
       "      <td>31.145025</td>\n",
       "      <td>18.562949</td>\n",
       "      <td>12.962477</td>\n",
       "      <td>7.364652</td>\n",
       "      <td>...</td>\n",
       "      <td>2.367208</td>\n",
       "      <td>4.926125</td>\n",
       "      <td>2.986972</td>\n",
       "      <td>2.413068</td>\n",
       "      <td>4.963437</td>\n",
       "      <td>27.129247</td>\n",
       "      <td>39.016520</td>\n",
       "      <td>6.442948</td>\n",
       "      <td>1.078572</td>\n",
       "      <td>0.0</td>\n",
       "    </tr>\n",
       "    <tr>\n",
       "      <th>2020-04-03</th>\n",
       "      <td>2.7206</td>\n",
       "      <td>7.861437</td>\n",
       "      <td>4.054913</td>\n",
       "      <td>6.187163</td>\n",
       "      <td>7.356678</td>\n",
       "      <td>20.879335</td>\n",
       "      <td>36.706636</td>\n",
       "      <td>23.203687</td>\n",
       "      <td>15.122890</td>\n",
       "      <td>8.643237</td>\n",
       "      <td>...</td>\n",
       "      <td>2.367208</td>\n",
       "      <td>5.541891</td>\n",
       "      <td>3.667547</td>\n",
       "      <td>2.413068</td>\n",
       "      <td>5.568734</td>\n",
       "      <td>27.129247</td>\n",
       "      <td>42.028825</td>\n",
       "      <td>8.532552</td>\n",
       "      <td>1.078572</td>\n",
       "      <td>0.0</td>\n",
       "    </tr>\n",
       "  </tbody>\n",
       "</table>\n",
       "<p>10 rows × 52 columns</p>\n",
       "</div>"
      ],
      "text/plain": [
       "state/region      AK        AL        AR        AZ        CA         CO  \\\n",
       "date                                                                      \n",
       "2020-03-25    0.0000  0.206880  0.675819  0.905438  1.747863   3.606431   \n",
       "2020-03-26    0.0000  0.620640  1.013728  1.207251  2.139176   4.555491   \n",
       "2020-03-27    1.3603  0.827520  1.013728  2.263596  2.660926   5.884176   \n",
       "2020-03-28    1.3603  0.827520  1.689547  2.263596  3.156589   8.351734   \n",
       "2020-03-29    1.3603  1.034400  2.027456  2.716315  3.391376   8.921170   \n",
       "2020-03-30    2.7206  2.275679  2.365366  3.018128  3.808776   9.680419   \n",
       "2020-03-31    2.7206  2.689439  2.703275  3.621754  4.774014  13.097037   \n",
       "2020-04-01    2.7206  5.792638  3.379094  4.376286  5.530552  15.184971   \n",
       "2020-04-02    2.7206  6.620157  4.054913  5.281724  6.339265  18.221965   \n",
       "2020-04-03    2.7206  7.861437  4.054913  6.187163  7.356678  20.879335   \n",
       "\n",
       "state/region         CT         DC         DE        FL  ...        SD  \\\n",
       "date                                                     ...             \n",
       "2020-03-25     5.283531   4.640737   0.000000  1.176299  ...  1.183604   \n",
       "2020-03-26     5.839692   4.640737   1.080206  1.483159  ...  1.183604   \n",
       "2020-03-27     7.508176   6.187650   2.160413  2.352597  ...  1.183604   \n",
       "2020-03-28     9.176659   6.187650   5.401032  2.864031  ...  1.183604   \n",
       "2020-03-29     9.454740   6.187650   6.481238  3.017461  ...  1.183604   \n",
       "2020-03-30    10.010901  13.922212   7.561445  3.631182  ...  1.183604   \n",
       "2020-03-31    19.187560  13.922212  10.802064  4.347190  ...  1.183604   \n",
       "2020-04-01    23.636849  17.016037  11.882270  5.114341  ...  2.367208   \n",
       "2020-04-02    31.145025  18.562949  12.962477  7.364652  ...  2.367208   \n",
       "2020-04-03    36.706636  23.203687  15.122890  8.643237  ...  2.367208   \n",
       "\n",
       "state/region        TN        TX        UT        VA         VT         WA  \\\n",
       "date                                                                         \n",
       "2020-03-25    0.461824  0.453717  0.344724  1.089535  12.766704  18.647601   \n",
       "2020-03-26    0.461824  0.794005  0.344724  1.694832  14.362542  21.659906   \n",
       "2020-03-27    0.923648  0.869625  0.689448  1.694832  15.958381  25.389426   \n",
       "2020-03-28    0.923648  1.096483  0.689448  2.058010  19.150057  27.397630   \n",
       "2020-03-29    1.077590  1.323342  0.689448  2.663308  19.150057  29.692719   \n",
       "2020-03-30    2.001238  1.739249  1.378896  3.147545  19.150057  31.700922   \n",
       "2020-03-31    2.001238  2.155157  1.723620  3.268605  20.745895  32.418138   \n",
       "2020-04-01    3.540652  2.382015  2.413068  4.116021  25.533409  35.717329   \n",
       "2020-04-02    4.926125  2.986972  2.413068  4.963437  27.129247  39.016520   \n",
       "2020-04-03    5.541891  3.667547  2.413068  5.568734  27.129247  42.028825   \n",
       "\n",
       "state/region        WI        WV   WY  \n",
       "date                                   \n",
       "2020-03-25    1.218936  0.000000  0.0  \n",
       "2020-03-26    1.741337  0.000000  0.0  \n",
       "2020-03-27    2.786140  0.000000  0.0  \n",
       "2020-03-28    2.960273  0.000000  0.0  \n",
       "2020-03-29    2.960273  0.539286  0.0  \n",
       "2020-03-30    3.482674  0.539286  0.0  \n",
       "2020-03-31    4.353343  0.539286  0.0  \n",
       "2020-04-01    5.746413  1.078572  0.0  \n",
       "2020-04-02    6.442948  1.078572  0.0  \n",
       "2020-04-03    8.532552  1.078572  0.0  \n",
       "\n",
       "[10 rows x 52 columns]"
      ]
     },
     "execution_count": 45,
     "metadata": {},
     "output_type": "execute_result"
    }
   ],
   "source": [
    "df.groupby(['date', 'state/region'])['deceased_pct1M'].sum().unstack()[-10:]"
   ]
  },
  {
   "cell_type": "code",
   "execution_count": 220,
   "metadata": {},
   "outputs": [
    {
     "data": {
      "text/html": [
       "<div>\n",
       "<style scoped>\n",
       "    .dataframe tbody tr th:only-of-type {\n",
       "        vertical-align: middle;\n",
       "    }\n",
       "\n",
       "    .dataframe tbody tr th {\n",
       "        vertical-align: top;\n",
       "    }\n",
       "\n",
       "    .dataframe thead th {\n",
       "        text-align: right;\n",
       "    }\n",
       "</style>\n",
       "<table border=\"1\" class=\"dataframe\">\n",
       "  <thead>\n",
       "    <tr style=\"text-align: right;\">\n",
       "      <th></th>\n",
       "      <th>date</th>\n",
       "      <th>deaths</th>\n",
       "    </tr>\n",
       "  </thead>\n",
       "  <tbody>\n",
       "    <tr>\n",
       "      <th>0</th>\n",
       "      <td>2020-03-08</td>\n",
       "      <td>22</td>\n",
       "    </tr>\n",
       "    <tr>\n",
       "      <th>1</th>\n",
       "      <td>2020-03-09</td>\n",
       "      <td>26</td>\n",
       "    </tr>\n",
       "    <tr>\n",
       "      <th>2</th>\n",
       "      <td>2020-03-10</td>\n",
       "      <td>30</td>\n",
       "    </tr>\n",
       "    <tr>\n",
       "      <th>3</th>\n",
       "      <td>2020-03-11</td>\n",
       "      <td>36</td>\n",
       "    </tr>\n",
       "    <tr>\n",
       "      <th>4</th>\n",
       "      <td>2020-03-12</td>\n",
       "      <td>42</td>\n",
       "    </tr>\n",
       "    <tr>\n",
       "      <th>5</th>\n",
       "      <td>2020-03-13</td>\n",
       "      <td>49</td>\n",
       "    </tr>\n",
       "    <tr>\n",
       "      <th>6</th>\n",
       "      <td>2020-03-14</td>\n",
       "      <td>59</td>\n",
       "    </tr>\n",
       "    <tr>\n",
       "      <th>7</th>\n",
       "      <td>2020-03-15</td>\n",
       "      <td>67</td>\n",
       "    </tr>\n",
       "    <tr>\n",
       "      <th>8</th>\n",
       "      <td>2020-03-16</td>\n",
       "      <td>90</td>\n",
       "    </tr>\n",
       "    <tr>\n",
       "      <th>9</th>\n",
       "      <td>2020-03-17</td>\n",
       "      <td>115</td>\n",
       "    </tr>\n",
       "    <tr>\n",
       "      <th>10</th>\n",
       "      <td>2020-03-18</td>\n",
       "      <td>156</td>\n",
       "    </tr>\n",
       "    <tr>\n",
       "      <th>11</th>\n",
       "      <td>2020-03-19</td>\n",
       "      <td>202</td>\n",
       "    </tr>\n",
       "    <tr>\n",
       "      <th>12</th>\n",
       "      <td>2020-03-20</td>\n",
       "      <td>264</td>\n",
       "    </tr>\n",
       "    <tr>\n",
       "      <th>13</th>\n",
       "      <td>2020-03-21</td>\n",
       "      <td>342</td>\n",
       "    </tr>\n",
       "    <tr>\n",
       "      <th>14</th>\n",
       "      <td>2020-03-22</td>\n",
       "      <td>433</td>\n",
       "    </tr>\n",
       "    <tr>\n",
       "      <th>15</th>\n",
       "      <td>2020-03-23</td>\n",
       "      <td>542</td>\n",
       "    </tr>\n",
       "    <tr>\n",
       "      <th>16</th>\n",
       "      <td>2020-03-24</td>\n",
       "      <td>727</td>\n",
       "    </tr>\n",
       "    <tr>\n",
       "      <th>17</th>\n",
       "      <td>2020-03-25</td>\n",
       "      <td>986</td>\n",
       "    </tr>\n",
       "    <tr>\n",
       "      <th>18</th>\n",
       "      <td>2020-03-26</td>\n",
       "      <td>1271</td>\n",
       "    </tr>\n",
       "    <tr>\n",
       "      <th>19</th>\n",
       "      <td>2020-03-27</td>\n",
       "      <td>1637</td>\n",
       "    </tr>\n",
       "    <tr>\n",
       "      <th>20</th>\n",
       "      <td>2020-03-28</td>\n",
       "      <td>2122</td>\n",
       "    </tr>\n",
       "    <tr>\n",
       "      <th>21</th>\n",
       "      <td>2020-03-29</td>\n",
       "      <td>2470</td>\n",
       "    </tr>\n",
       "    <tr>\n",
       "      <th>22</th>\n",
       "      <td>2020-03-30</td>\n",
       "      <td>3048</td>\n",
       "    </tr>\n",
       "    <tr>\n",
       "      <th>23</th>\n",
       "      <td>2020-03-31</td>\n",
       "      <td>3879</td>\n",
       "    </tr>\n",
       "    <tr>\n",
       "      <th>24</th>\n",
       "      <td>2020-04-01</td>\n",
       "      <td>4799</td>\n",
       "    </tr>\n",
       "    <tr>\n",
       "      <th>25</th>\n",
       "      <td>2020-04-02</td>\n",
       "      <td>6183</td>\n",
       "    </tr>\n",
       "    <tr>\n",
       "      <th>26</th>\n",
       "      <td>2020-04-03</td>\n",
       "      <td>7070</td>\n",
       "    </tr>\n",
       "  </tbody>\n",
       "</table>\n",
       "</div>"
      ],
      "text/plain": [
       "          date  deaths\n",
       "0   2020-03-08      22\n",
       "1   2020-03-09      26\n",
       "2   2020-03-10      30\n",
       "3   2020-03-11      36\n",
       "4   2020-03-12      42\n",
       "5   2020-03-13      49\n",
       "6   2020-03-14      59\n",
       "7   2020-03-15      67\n",
       "8   2020-03-16      90\n",
       "9   2020-03-17     115\n",
       "10  2020-03-18     156\n",
       "11  2020-03-19     202\n",
       "12  2020-03-20     264\n",
       "13  2020-03-21     342\n",
       "14  2020-03-22     433\n",
       "15  2020-03-23     542\n",
       "16  2020-03-24     727\n",
       "17  2020-03-25     986\n",
       "18  2020-03-26    1271\n",
       "19  2020-03-27    1637\n",
       "20  2020-03-28    2122\n",
       "21  2020-03-29    2470\n",
       "22  2020-03-30    3048\n",
       "23  2020-03-31    3879\n",
       "24  2020-04-01    4799\n",
       "25  2020-04-02    6183\n",
       "26  2020-04-03    7070"
      ]
     },
     "execution_count": 220,
     "metadata": {},
     "output_type": "execute_result"
    }
   ],
   "source": [
    "df_filt[df_filt['date'] >= '2020-03-08'].groupby('date', as_index=False)['deaths'].sum()"
   ]
  },
  {
   "cell_type": "code",
   "execution_count": 221,
   "metadata": {},
   "outputs": [],
   "source": [
    "df_us = df_filt[df_filt['date'] >= '2020-03-17'].groupby('date', as_index=False)['deaths'].sum()"
   ]
  },
  {
   "cell_type": "code",
   "execution_count": 222,
   "metadata": {},
   "outputs": [
    {
     "name": "stdout",
     "output_type": "stream",
     "text": [
      "[180.45685445   0.2179915 ]\n",
      "[[ 1.54491170e+02 -5.51979500e-02]\n",
      " [-5.51979500e-02  2.01541137e-05]]\n"
     ]
    }
   ],
   "source": [
    "a, b = scipy.optimize.curve_fit(lambda t,a,b: a*np.exp(b*t),  list(range(len(df_us))),  df_us['deaths'].values)\n",
    "print(a)\n",
    "print(b)"
   ]
  },
  {
   "cell_type": "code",
   "execution_count": 223,
   "metadata": {},
   "outputs": [],
   "source": [
    "df_us['idx'] = list(range(len(df_us)))\n",
    "\n",
    "df_us['fit'] = a[0] * np.exp(a[1] * df_us['idx'])"
   ]
  },
  {
   "cell_type": "code",
   "execution_count": 224,
   "metadata": {},
   "outputs": [
    {
     "data": {
      "text/plain": [
       "<matplotlib.axes._subplots.AxesSubplot at 0x7fb010998ed0>"
      ]
     },
     "execution_count": 224,
     "metadata": {},
     "output_type": "execute_result"
    },
    {
     "data": {
      "image/png": "[encoded data removed]",
      "text/plain": [
       "<Figure size 432x288 with 1 Axes>"
      ]
     },
     "metadata": {
      "needs_background": "light"
     },
     "output_type": "display_data"
    }
   ],
   "source": [
    "df_us[['deaths', 'fit']].plot()"
   ]
  },
  {
   "cell_type": "code",
   "execution_count": 225,
   "metadata": {},
   "outputs": [
    {
     "data": {
      "text/plain": [
       "(18, 4)"
      ]
     },
     "execution_count": 225,
     "metadata": {},
     "output_type": "execute_result"
    }
   ],
   "source": [
    "df_us.shape"
   ]
  },
  {
   "cell_type": "code",
   "execution_count": 243,
   "metadata": {},
   "outputs": [],
   "source": [
    "x = np.random.rand(2, 1000)"
   ]
  },
  {
   "cell_type": "code",
   "execution_count": null,
   "metadata": {},
   "outputs": [],
   "source": [
    "scipy.stats.invgamma.pdf()"
   ]
  },
  {
   "cell_type": "code",
   "execution_count": 251,
   "metadata": {},
   "outputs": [],
   "source": [
    "mu = 5.1\n",
    "coef_var = .86\n",
    "alpha = "
   ]
  },
  {
   "cell_type": "code",
   "execution_count": 249,
   "metadata": {},
   "outputs": [
    {
     "data": {
      "text/plain": [
       "<scipy.stats._distn_infrastructure.rv_frozen at 0x7fb012985fd0>"
      ]
     },
     "execution_count": 249,
     "metadata": {},
     "output_type": "execute_result"
    }
   ],
   "source": [
    "scipy.stats.gamma(5.1, .86)"
   ]
  },
  {
   "cell_type": "code",
   "execution_count": 313,
   "metadata": {},
   "outputs": [],
   "source": [
    "def get_gamma_param(mean, coef_of_var):\n",
    "    alpha = math.pow(1 / coef_of_var, 2)\n",
    "    beta = alpha / mean\n",
    "    return alpha, beta"
   ]
  },
  {
   "cell_type": "code",
   "execution_count": 314,
   "metadata": {},
   "outputs": [
    {
     "data": {
      "text/plain": [
       "(1.3520822065981613, 0.26511415815650224)"
      ]
     },
     "execution_count": 314,
     "metadata": {},
     "output_type": "execute_result"
    }
   ],
   "source": [
    "get_gamma_param(5.1, .86)"
   ]
  },
  {
   "cell_type": "code",
   "execution_count": 315,
   "metadata": {},
   "outputs": [
    {
     "data": {
      "text/plain": [
       "(4.938271604938272, 0.2626740215392698)"
      ]
     },
     "execution_count": 315,
     "metadata": {},
     "output_type": "execute_result"
    }
   ],
   "source": [
    "get_gamma_param(18.8, .45)"
   ]
  },
  {
   "cell_type": "code",
   "execution_count": 318,
   "metadata": {},
   "outputs": [
    {
     "data": {
      "text/plain": [
       "[<matplotlib.lines.Line2D at 0x7fb01328ed50>]"
      ]
     },
     "execution_count": 318,
     "metadata": {},
     "output_type": "execute_result"
    },
    {
     "data": {
      "image/png": "[encoded data removed]",
      "text/plain": [
       "<Figure size 432x288 with 1 Axes>"
      ]
     },
     "metadata": {},
     "output_type": "display_data"
    }
   ],
   "source": [
    "delta = 1e-3\n",
    "x = np.arange(0, 60, delta)\n",
    "\n",
    "inf_to_onset = scipy.stats.gamma.pdf(x, 5.1, 0.86) * delta\n",
    "onset_to_death = scipy.stats.gamma.pdf(x, 18.8, 0.45) * delta\n",
    "plt.plot(x, inf_to_onset)\n",
    "plt.plot(x, onset_to_death)"
   ]
  },
  {
   "cell_type": "code",
   "execution_count": 319,
   "metadata": {},
   "outputs": [],
   "source": [
    "inf_to_death = signal.fftconvolve(inf_to_onset, onset_to_death, 'same') / delta"
   ]
  },
  {
   "cell_type": "code",
   "execution_count": 320,
   "metadata": {},
   "outputs": [
    {
     "data": {
      "text/plain": [
       "0.16155952454158476"
      ]
     },
     "execution_count": 320,
     "metadata": {},
     "output_type": "execute_result"
    }
   ],
   "source": [
    "np.trapz(inf_to_death, x)"
   ]
  },
  {
   "cell_type": "code",
   "execution_count": 308,
   "metadata": {},
   "outputs": [
    {
     "data": {
      "text/plain": [
       "[<matplotlib.lines.Line2D at 0x7fb01329c590>]"
      ]
     },
     "execution_count": 308,
     "metadata": {},
     "output_type": "execute_result"
    },
    {
     "data": {
      "image/png": "[encoded data removed]",
      "text/plain": [
       "<Figure size 432x288 with 1 Axes>"
      ]
     },
     "metadata": {},
     "output_type": "display_data"
    }
   ],
   "source": [
    "plt.plot(x, inf_to_death)"
   ]
  },
  {
   "cell_type": "code",
   "execution_count": null,
   "metadata": {},
   "outputs": [],
   "source": []
  },
  {
   "cell_type": "code",
   "execution_count": 237,
   "metadata": {},
   "outputs": [
    {
     "data": {
      "image/png": "[encoded data removed]",
      "text/plain": [
       "<Figure size 432x288 with 1 Axes>"
      ]
     },
     "metadata": {},
     "output_type": "display_data"
    }
   ],
   "source": [
    "plt.style.use('seaborn-darkgrid')\n",
    "x = np.linspace(0, 20, 200)\n",
    "alphas = [1., 2., 3., 7.5]\n",
    "betas = [.5, .5, 1., 1.]\n",
    "for a, b in zip(alphas, betas):\n",
    "    pdf = scipy.stats.gamma.pdf(x, a, scale=1.0/b)\n",
    "    plt.plot(x, pdf, label=r'$\\alpha$ = {}, $\\beta$ = {}'.format(a, b))\n",
    "plt.xlabel('x', fontsize=12)\n",
    "plt.ylabel('f(x)', fontsize=12)\n",
    "plt.legend(loc=1)\n",
    "plt.show()"
   ]
  },
  {
   "cell_type": "code",
   "execution_count": 226,
   "metadata": {},
   "outputs": [],
   "source": [
    "model = pm.Model()\n",
    "with model:\n",
    "    # Priors for unknown model parameters\n",
    "    # Group intercept\n",
    "    a_grp = pm.Normal('a_grp', a[0], 1)\n",
    "    # Group variance\n",
    "    a_grp_sigma = pm.HalfNormal('a_grp_sigma', 1)\n",
    "    # Individual intercepts\n",
    "    a_ind = pm.Normal('a_ind', \n",
    "                      mu=a_grp, sigma=a_grp_sigma, \n",
    "                      shape=1)\n",
    "    \n",
    "    # Priors for unknown model parameters\n",
    "    # Group intercept\n",
    "    b_grp = pm.Normal('b_grp', a[1], 1)\n",
    "    # Group variance\n",
    "    b_grp_sigma = pm.HalfNormal('b_grp_sigma', 1)\n",
    "    # Individual intercepts\n",
    "    b_ind = pm.Normal('b_ind', \n",
    "                      mu=b_grp, sigma=b_grp_sigma, \n",
    "                      shape=1)\n",
    "\n",
    "    sigma = pm.HalfNormal('sigma', 1, shape=1)\n",
    "    \n",
    "    # Likelihood (sampling distribution) of observations\n",
    "    x = pm.Data(\"x\", df_us['idx'].values)\n",
    "    deaths = pm.Data(\"y\", df_us['deaths'].astype('float64').values)\n",
    "    \n",
    "    pm.NegativeBinomial(\n",
    "        'fit', \n",
    "        (a_ind * b_ind ** x), # Exponential regression\n",
    "        sigma, \n",
    "        observed=deaths)"
   ]
  },
  {
   "cell_type": "code",
   "execution_count": 228,
   "metadata": {},
   "outputs": [
    {
     "name": "stderr",
     "output_type": "stream",
     "text": [
      "Auto-assigning NUTS sampler...\n",
      "INFO:pymc3:Auto-assigning NUTS sampler...\n",
      "Initializing NUTS using jitter+adapt_diag...\n",
      "INFO:pymc3:Initializing NUTS using jitter+adapt_diag...\n",
      "Sequential sampling (1 chains in 1 job)\n",
      "INFO:pymc3:Sequential sampling (1 chains in 1 job)\n",
      "NUTS: [sigma, b_ind, b_grp_sigma, b_grp, a_ind, a_grp_sigma, a_grp]\n",
      "INFO:pymc3:NUTS: [sigma, b_ind, b_grp_sigma, b_grp, a_ind, a_grp_sigma, a_grp]\n",
      "Sampling chain 0, 23 divergences: 100%|██████████| 2000/2000 [00:14<00:00, 135.70it/s]\n",
      "There were 23 divergences after tuning. Increase `target_accept` or reparameterize.\n",
      "ERROR:pymc3:There were 23 divergences after tuning. Increase `target_accept` or reparameterize.\n",
      "Only one chain was sampled, this makes it impossible to run some convergence checks\n",
      "INFO:pymc3:Only one chain was sampled, this makes it impossible to run some convergence checks\n",
      "/home/benson/fpna/.virtualenvs/fpna/lib/python3.7/site-packages/pymc3/sampling.py:1247: UserWarning: samples parameter is smaller than nchains times ndraws, some draws and/or chains may not be represented in the returned posterior predictive sample\n",
      "  \"samples parameter is smaller than nchains times ndraws, some draws \"\n",
      "100%|██████████| 100/100 [00:01<00:00, 97.53it/s]\n"
     ]
    }
   ],
   "source": [
    "with model:\n",
    "    # Sample posterior\n",
    "    trace = pm.sample(tune=1500, chains=1, cores=1, target_accept=.9)\n",
    "    \n",
    "#     # Update data so that we get predictions into the future\n",
    "#     for country in countries:\n",
    "#         df_country = df_sign.loc[lambda x: (x.country == country)]\n",
    "#         x_data = np.arange(0, 30)\n",
    "#         y_data = np.array([np.nan] * len(x_data))\n",
    "#         pm.set_data({country + \"x_data\": x_data})\n",
    "#         pm.set_data({country + \"y_data\": y_data})\n",
    "    \n",
    "    # Sample posterior predictive\n",
    "    x_data = np.arange(df_us.shape[0] + 14)\n",
    "    y_data = np.array([np.nan] * len(x_data))\n",
    "    pm.set_data({\"x\": x_data})\n",
    "    pm.set_data({\"y\": x_data})\n",
    "    \n",
    "    post_pred = pm.sample_posterior_predictive(trace, samples=100)"
   ]
  },
  {
   "cell_type": "code",
   "execution_count": 229,
   "metadata": {},
   "outputs": [
    {
     "data": {
      "text/plain": [
       "Text(0.5, 0.98, 'Posterior of daily growth')"
      ]
     },
     "execution_count": 229,
     "metadata": {},
     "output_type": "execute_result"
    },
    {
     "data": {
      "image/png": "[encoded data removed]",
      "text/plain": [
       "<Figure size 432x288 with 1 Axes>"
      ]
     },
     "metadata": {
      "needs_background": "light"
     },
     "output_type": "display_data"
    }
   ],
   "source": [
    "fig, axs = plt.subplots(nrows=1)\n",
    "sns.distplot((trace['b_ind'] * 100) - 100, hist=False)\n",
    "ax.set_xlabel('Daily growth in %')\n",
    "plt.suptitle('Posterior of daily growth')"
   ]
  },
  {
   "cell_type": "code",
   "execution_count": 230,
   "metadata": {},
   "outputs": [
    {
     "data": {
      "text/plain": [
       "dict_keys(['fit'])"
      ]
     },
     "execution_count": 230,
     "metadata": {},
     "output_type": "execute_result"
    }
   ],
   "source": [
    "post_pred.keys()"
   ]
  },
  {
   "cell_type": "code",
   "execution_count": 231,
   "metadata": {},
   "outputs": [
    {
     "data": {
      "text/plain": [
       "(100, 32)"
      ]
     },
     "execution_count": 231,
     "metadata": {},
     "output_type": "execute_result"
    }
   ],
   "source": [
    "post_pred['fit'].shape"
   ]
  },
  {
   "cell_type": "code",
   "execution_count": 232,
   "metadata": {},
   "outputs": [
    {
     "data": {
      "text/plain": [
       "array([[   311,     99,    237, ..., 218194, 106422, 129111],\n",
       "       [   232,    116,    113, ...,  40700, 146345, 503504],\n",
       "       [   216,    263,    466, ...,  59200,  38381,  22671],\n",
       "       ...,\n",
       "       [   367,    249,    573, ..., 156054, 150121, 283543],\n",
       "       [   261,    170,    138, ..., 180434, 111605, 329670],\n",
       "       [   355,    217,    153, ...,  25392,  30219,  71516]])"
      ]
     },
     "execution_count": 232,
     "metadata": {},
     "output_type": "execute_result"
    }
   ],
   "source": [
    "post_pred['fit']"
   ]
  },
  {
   "cell_type": "code",
   "execution_count": 233,
   "metadata": {
    "scrolled": false
   },
   "outputs": [
    {
     "data": {
      "image/png": "[encoded data removed]",
      "text/plain": [
       "<Figure size 720x432 with 1 Axes>"
      ]
     },
     "metadata": {
      "needs_background": "light"
     },
     "output_type": "display_data"
    }
   ],
   "source": [
    "fig, ax = plt.subplots(figsize=(10, 6))\n",
    "ax.plot(np.arange(0, post_pred['fit'].shape[1]), post_pred['fit'].T, alpha=.05, color='.5')\n",
    "ax.plot(df_us['idx'], df_us['deaths'], color='r')\n",
    "plt.show()"
   ]
  },
  {
   "cell_type": "markdown",
   "metadata": {},
   "source": [
    "## Other"
   ]
  },
  {
   "cell_type": "code",
   "execution_count": null,
   "metadata": {},
   "outputs": [],
   "source": []
  },
  {
   "cell_type": "code",
   "execution_count": 64,
   "metadata": {},
   "outputs": [],
   "source": [
    "def makePowerlawWithCutoff(alpha, kappa ):\n",
    "    '''Create a model function for a powerlaw distribution with exponential cutoff.\n",
    "\n",
    "    :param alpha: the exponent of the distribution\n",
    "    :param kappa: the degree cutoff\n",
    "    :returns: a model function'''\n",
    "    C = Li(alpha, math.exp(-1.0 / kappa))\n",
    "    def p( k ):\n",
    "        return (pow((k + 0.0), -alpha) * math.exp(-(k + 0.0) / kappa)) / C\n",
    "    return p\n",
    "\n",
    "def generateFrom(N, p, maxdeg = 100 ):\n",
    "    '''Generate a random graph with degree distribution described\n",
    "    by a model function.\n",
    "\n",
    "    :param N: number of numbers to generate\n",
    "    :param p: model function\n",
    "    :param maxdeg: maximum node degree we'll consider (defaults to 100)\n",
    "    :returns: a network with the given degree distribution'''\n",
    "\n",
    "    # construct degrees according to the distribution given\n",
    "    # by the model function\n",
    "    ns = []\n",
    "    t = 0\n",
    "    for i in range(N):\n",
    "        while True:\n",
    "            k = 1 + int (np.random.random() * (maxdeg - 1))\n",
    "            if np.random.random() < p(k):\n",
    "                ns = ns + [ k ]\n",
    "                t = t + k\n",
    "                break\n",
    "\n",
    "    # if the sequence is odd, choose a random element\n",
    "    # and increment it by 1 (this doesn't change the\n",
    "    # distribution significantly, and so is safe)\n",
    "    if t % 2 != 0:\n",
    "        i = int(np.random.random() * len(ns))\n",
    "        ns[i] = ns[i] + 1\n",
    "\n",
    "    # populate the network using the configuration\n",
    "    # model with the given degree distribution\n",
    "    g = nx.configuration_model(ns, create_using = nx.Graph())\n",
    "    g = g.subgraph(max(nx.connected_components(g), key = len)).copy()\n",
    "    g.remove_edges_from(list(nx.selfloop_edges(g)))\n",
    "    return g"
   ]
  },
  {
   "cell_type": "code",
   "execution_count": 65,
   "metadata": {},
   "outputs": [],
   "source": [
    "# https://www.pnas.org/content/107/51/22020\n",
    "g = generateFrom(10000, makePowerlawWithCutoff(2.21, 1.1))"
   ]
  },
  {
   "cell_type": "code",
   "execution_count": 71,
   "metadata": {},
   "outputs": [
    {
     "data": {
      "text/plain": [
       "DegreeView({2912: 1, 3940: 5, 614: 2, 551: 1, 9993: 2, 8428: 1, 7628: 2, 8880: 1, 6449: 1, 6521: 3, 925: 1})"
      ]
     },
     "execution_count": 71,
     "metadata": {},
     "output_type": "execute_result"
    }
   ],
   "source": [
    "nx.degree(g)"
   ]
  },
  {
   "cell_type": "code",
   "execution_count": 68,
   "metadata": {},
   "outputs": [],
   "source": [
    "m = SIR()\n",
    "\n",
    "f = SynchronousDynamics(m, g)\n",
    "rc = f.set(param).run()"
   ]
  },
  {
   "cell_type": "code",
   "execution_count": 69,
   "metadata": {},
   "outputs": [
    {
     "data": {
      "text/plain": [
       "{'S': 11, 'I': 0, 'R': 0}"
      ]
     },
     "execution_count": 69,
     "metadata": {},
     "output_type": "execute_result"
    }
   ],
   "source": [
    "rc[epyc.Experiment.RESULTS]"
   ]
  },
  {
   "cell_type": "code",
   "execution_count": 49,
   "metadata": {},
   "outputs": [
    {
     "ename": "KeyboardInterrupt",
     "evalue": "",
     "output_type": "error",
     "traceback": [
      "\u001b[0;31m---------------------------------------------------------------------------\u001b[0m",
      "\u001b[0;31mKeyboardInterrupt\u001b[0m                         Traceback (most recent call last)",
      "\u001b[0;32m<ipython-input-49-8ba9f60ef064>\u001b[0m in \u001b[0;36m<module>\u001b[0;34m\u001b[0m\n\u001b[1;32m      9\u001b[0m \u001b[0;34m\u001b[0m\u001b[0m\n\u001b[1;32m     10\u001b[0m \u001b[0;31m# run 5 repetitions of the experiment at each point in the parameter space\u001b[0m\u001b[0;34m\u001b[0m\u001b[0;34m\u001b[0m\u001b[0;34m\u001b[0m\u001b[0m\n\u001b[0;32m---> 11\u001b[0;31m \u001b[0mlab\u001b[0m\u001b[0;34m.\u001b[0m\u001b[0mrunExperiment\u001b[0m\u001b[0;34m(\u001b[0m\u001b[0mepyc\u001b[0m\u001b[0;34m.\u001b[0m\u001b[0mRepeatedExperiment\u001b[0m\u001b[0;34m(\u001b[0m\u001b[0me\u001b[0m\u001b[0;34m,\u001b[0m \u001b[0;36m5\u001b[0m\u001b[0;34m)\u001b[0m\u001b[0;34m)\u001b[0m\u001b[0;34m\u001b[0m\u001b[0;34m\u001b[0m\u001b[0m\n\u001b[0m",
      "\u001b[0;32m~/fpna/.virtualenvs/fpna/lib/python3.7/site-packages/epyc/lab.py\u001b[0m in \u001b[0;36mrunExperiment\u001b[0;34m(self, e)\u001b[0m\n\u001b[1;32m    192\u001b[0m         \u001b[0;32mfor\u001b[0m \u001b[0mp\u001b[0m \u001b[0;32min\u001b[0m \u001b[0mps\u001b[0m\u001b[0;34m:\u001b[0m\u001b[0;34m\u001b[0m\u001b[0;34m\u001b[0m\u001b[0m\n\u001b[1;32m    193\u001b[0m             \u001b[0;31m#print \"Running {p}\".format(p = p)\u001b[0m\u001b[0;34m\u001b[0m\u001b[0;34m\u001b[0m\u001b[0;34m\u001b[0m\u001b[0m\n\u001b[0;32m--> 194\u001b[0;31m             \u001b[0mres\u001b[0m \u001b[0;34m=\u001b[0m \u001b[0me\u001b[0m\u001b[0;34m.\u001b[0m\u001b[0mset\u001b[0m\u001b[0;34m(\u001b[0m\u001b[0mp\u001b[0m\u001b[0;34m)\u001b[0m\u001b[0;34m.\u001b[0m\u001b[0mrun\u001b[0m\u001b[0;34m(\u001b[0m\u001b[0;34m)\u001b[0m\u001b[0;34m\u001b[0m\u001b[0;34m\u001b[0m\u001b[0m\n\u001b[0m\u001b[1;32m    195\u001b[0m             \u001b[0mnb\u001b[0m\u001b[0;34m.\u001b[0m\u001b[0maddResult\u001b[0m\u001b[0;34m(\u001b[0m\u001b[0mres\u001b[0m\u001b[0;34m)\u001b[0m\u001b[0;34m\u001b[0m\u001b[0;34m\u001b[0m\u001b[0m\n\u001b[1;32m    196\u001b[0m \u001b[0;34m\u001b[0m\u001b[0m\n",
      "\u001b[0;32m~/fpna/.virtualenvs/fpna/lib/python3.7/site-packages/epyc/experiment.py\u001b[0m in \u001b[0;36mrun\u001b[0;34m(self)\u001b[0m\n\u001b[1;32m    152\u001b[0m             \u001b[0mself\u001b[0m\u001b[0;34m.\u001b[0m\u001b[0msetUp\u001b[0m\u001b[0;34m(\u001b[0m\u001b[0mparams\u001b[0m\u001b[0;34m)\u001b[0m\u001b[0;34m\u001b[0m\u001b[0;34m\u001b[0m\u001b[0m\n\u001b[1;32m    153\u001b[0m             \u001b[0mdoneSetupTime\u001b[0m \u001b[0;34m=\u001b[0m \u001b[0mdatetime\u001b[0m\u001b[0;34m.\u001b[0m\u001b[0mnow\u001b[0m\u001b[0;34m(\u001b[0m\u001b[0;34m)\u001b[0m\u001b[0;34m\u001b[0m\u001b[0;34m\u001b[0m\u001b[0m\n\u001b[0;32m--> 154\u001b[0;31m             \u001b[0mres\u001b[0m \u001b[0;34m=\u001b[0m \u001b[0mself\u001b[0m\u001b[0;34m.\u001b[0m\u001b[0mdo\u001b[0m\u001b[0;34m(\u001b[0m\u001b[0mparams\u001b[0m\u001b[0;34m)\u001b[0m\u001b[0;34m\u001b[0m\u001b[0;34m\u001b[0m\u001b[0m\n\u001b[0m\u001b[1;32m    155\u001b[0m             \u001b[0mdoneExperimentTime\u001b[0m \u001b[0;34m=\u001b[0m \u001b[0mdatetime\u001b[0m\u001b[0;34m.\u001b[0m\u001b[0mnow\u001b[0m\u001b[0;34m(\u001b[0m\u001b[0;34m)\u001b[0m\u001b[0;34m\u001b[0m\u001b[0;34m\u001b[0m\u001b[0m\n\u001b[1;32m    156\u001b[0m             \u001b[0mself\u001b[0m\u001b[0;34m.\u001b[0m\u001b[0mtearDown\u001b[0m\u001b[0;34m(\u001b[0m\u001b[0;34m)\u001b[0m\u001b[0;34m\u001b[0m\u001b[0;34m\u001b[0m\u001b[0m\n",
      "\u001b[0;32m~/fpna/.virtualenvs/fpna/lib/python3.7/site-packages/epyc/repeatedexperiment.py\u001b[0m in \u001b[0;36mdo\u001b[0;34m(self, params)\u001b[0m\n\u001b[1;32m     67\u001b[0m         \u001b[0mresults\u001b[0m \u001b[0;34m=\u001b[0m \u001b[0;34m[\u001b[0m\u001b[0;34m]\u001b[0m\u001b[0;34m\u001b[0m\u001b[0;34m\u001b[0m\u001b[0m\n\u001b[1;32m     68\u001b[0m         \u001b[0;32mfor\u001b[0m \u001b[0mi\u001b[0m \u001b[0;32min\u001b[0m \u001b[0mrange\u001b[0m\u001b[0;34m(\u001b[0m\u001b[0mN\u001b[0m\u001b[0;34m)\u001b[0m\u001b[0;34m:\u001b[0m\u001b[0;34m\u001b[0m\u001b[0;34m\u001b[0m\u001b[0m\n\u001b[0;32m---> 69\u001b[0;31m             \u001b[0mres\u001b[0m \u001b[0;34m=\u001b[0m \u001b[0me\u001b[0m\u001b[0;34m.\u001b[0m\u001b[0mrun\u001b[0m\u001b[0;34m(\u001b[0m\u001b[0;34m)\u001b[0m\u001b[0;34m\u001b[0m\u001b[0;34m\u001b[0m\u001b[0m\n\u001b[0m\u001b[1;32m     70\u001b[0m \u001b[0;34m\u001b[0m\u001b[0m\n\u001b[1;32m     71\u001b[0m             \u001b[0;31m# make sure we have a list to traverse\u001b[0m\u001b[0;34m\u001b[0m\u001b[0;34m\u001b[0m\u001b[0;34m\u001b[0m\u001b[0m\n",
      "\u001b[0;32m~/fpna/.virtualenvs/fpna/lib/python3.7/site-packages/epyc/experiment.py\u001b[0m in \u001b[0;36mrun\u001b[0;34m(self)\u001b[0m\n\u001b[1;32m    152\u001b[0m             \u001b[0mself\u001b[0m\u001b[0;34m.\u001b[0m\u001b[0msetUp\u001b[0m\u001b[0;34m(\u001b[0m\u001b[0mparams\u001b[0m\u001b[0;34m)\u001b[0m\u001b[0;34m\u001b[0m\u001b[0;34m\u001b[0m\u001b[0m\n\u001b[1;32m    153\u001b[0m             \u001b[0mdoneSetupTime\u001b[0m \u001b[0;34m=\u001b[0m \u001b[0mdatetime\u001b[0m\u001b[0;34m.\u001b[0m\u001b[0mnow\u001b[0m\u001b[0;34m(\u001b[0m\u001b[0;34m)\u001b[0m\u001b[0;34m\u001b[0m\u001b[0;34m\u001b[0m\u001b[0m\n\u001b[0;32m--> 154\u001b[0;31m             \u001b[0mres\u001b[0m \u001b[0;34m=\u001b[0m \u001b[0mself\u001b[0m\u001b[0;34m.\u001b[0m\u001b[0mdo\u001b[0m\u001b[0;34m(\u001b[0m\u001b[0mparams\u001b[0m\u001b[0;34m)\u001b[0m\u001b[0;34m\u001b[0m\u001b[0;34m\u001b[0m\u001b[0m\n\u001b[0m\u001b[1;32m    155\u001b[0m             \u001b[0mdoneExperimentTime\u001b[0m \u001b[0;34m=\u001b[0m \u001b[0mdatetime\u001b[0m\u001b[0;34m.\u001b[0m\u001b[0mnow\u001b[0m\u001b[0;34m(\u001b[0m\u001b[0;34m)\u001b[0m\u001b[0;34m\u001b[0m\u001b[0;34m\u001b[0m\u001b[0m\n\u001b[1;32m    156\u001b[0m             \u001b[0mself\u001b[0m\u001b[0;34m.\u001b[0m\u001b[0mtearDown\u001b[0m\u001b[0;34m(\u001b[0m\u001b[0;34m)\u001b[0m\u001b[0;34m\u001b[0m\u001b[0;34m\u001b[0m\u001b[0m\n",
      "\u001b[0;32m~/fpna/.virtualenvs/fpna/lib/python3.7/site-packages/epydemic/stochasticdynamics.py\u001b[0m in \u001b[0;36mdo\u001b[0;34m(self, params)\u001b[0m\n\u001b[1;32m     91\u001b[0m             \u001b[0;32mif\u001b[0m \u001b[0mlen\u001b[0m\u001b[0;34m(\u001b[0m\u001b[0ml\u001b[0m\u001b[0;34m)\u001b[0m \u001b[0;34m>\u001b[0m \u001b[0;36m0\u001b[0m\u001b[0;34m:\u001b[0m\u001b[0;34m\u001b[0m\u001b[0;34m\u001b[0m\u001b[0m\n\u001b[1;32m     92\u001b[0m                 \u001b[0;31m# draw a random element from the chosen locus\u001b[0m\u001b[0;34m\u001b[0m\u001b[0;34m\u001b[0m\u001b[0;34m\u001b[0m\u001b[0m\n\u001b[0;32m---> 93\u001b[0;31m                 \u001b[0me\u001b[0m \u001b[0;34m=\u001b[0m \u001b[0ml\u001b[0m\u001b[0;34m.\u001b[0m\u001b[0mdraw\u001b[0m\u001b[0;34m(\u001b[0m\u001b[0;34m)\u001b[0m\u001b[0;34m\u001b[0m\u001b[0;34m\u001b[0m\u001b[0m\n\u001b[0m\u001b[1;32m     94\u001b[0m \u001b[0;34m\u001b[0m\u001b[0m\n\u001b[1;32m     95\u001b[0m                 \u001b[0;31m# perform the event by calling the event function,\u001b[0m\u001b[0;34m\u001b[0m\u001b[0;34m\u001b[0m\u001b[0;34m\u001b[0m\u001b[0m\n",
      "\u001b[0;32m~/fpna/.virtualenvs/fpna/lib/python3.7/site-packages/epydemic/loci.py\u001b[0m in \u001b[0;36mdraw\u001b[0;34m(self)\u001b[0m\n\u001b[1;32m     62\u001b[0m         \u001b[0;32mif\u001b[0m \u001b[0mlen\u001b[0m\u001b[0;34m(\u001b[0m\u001b[0mself\u001b[0m\u001b[0;34m)\u001b[0m \u001b[0;34m==\u001b[0m \u001b[0;36m0\u001b[0m\u001b[0;34m:\u001b[0m\u001b[0;34m\u001b[0m\u001b[0;34m\u001b[0m\u001b[0m\n\u001b[1;32m     63\u001b[0m             \u001b[0;32mraise\u001b[0m \u001b[0mValueError\u001b[0m\u001b[0;34m(\u001b[0m\u001b[0;34m'Trying to draw element from empty locus {n}'\u001b[0m\u001b[0;34m.\u001b[0m\u001b[0mformat\u001b[0m\u001b[0;34m(\u001b[0m\u001b[0mn\u001b[0m \u001b[0;34m=\u001b[0m \u001b[0mself\u001b[0m\u001b[0;34m.\u001b[0m\u001b[0mname\u001b[0m\u001b[0;34m(\u001b[0m\u001b[0;34m)\u001b[0m\u001b[0;34m)\u001b[0m\u001b[0;34m)\u001b[0m\u001b[0;34m\u001b[0m\u001b[0;34m\u001b[0m\u001b[0m\n\u001b[0;32m---> 64\u001b[0;31m         \u001b[0me\u001b[0m \u001b[0;34m=\u001b[0m \u001b[0;34m(\u001b[0m\u001b[0mrandom\u001b[0m\u001b[0;34m.\u001b[0m\u001b[0msample\u001b[0m\u001b[0;34m(\u001b[0m\u001b[0mself\u001b[0m\u001b[0;34m.\u001b[0m\u001b[0melements\u001b[0m\u001b[0;34m(\u001b[0m\u001b[0;34m)\u001b[0m\u001b[0;34m,\u001b[0m \u001b[0;36m1\u001b[0m\u001b[0;34m)\u001b[0m\u001b[0;34m)\u001b[0m\u001b[0;34m[\u001b[0m\u001b[0;36m0\u001b[0m\u001b[0;34m]\u001b[0m\u001b[0;34m\u001b[0m\u001b[0;34m\u001b[0m\u001b[0m\n\u001b[0m\u001b[1;32m     65\u001b[0m         \u001b[0;32mreturn\u001b[0m \u001b[0me\u001b[0m\u001b[0;34m\u001b[0m\u001b[0;34m\u001b[0m\u001b[0m\n\u001b[1;32m     66\u001b[0m \u001b[0;34m\u001b[0m\u001b[0m\n",
      "\u001b[0;32m~/fpna/.virtualenvs/fpna/lib/python3.7/random.py\u001b[0m in \u001b[0;36msample\u001b[0;34m(self, population, k)\u001b[0m\n\u001b[1;32m    313\u001b[0m \u001b[0;34m\u001b[0m\u001b[0m\n\u001b[1;32m    314\u001b[0m         \u001b[0;32mif\u001b[0m \u001b[0misinstance\u001b[0m\u001b[0;34m(\u001b[0m\u001b[0mpopulation\u001b[0m\u001b[0;34m,\u001b[0m \u001b[0m_Set\u001b[0m\u001b[0;34m)\u001b[0m\u001b[0;34m:\u001b[0m\u001b[0;34m\u001b[0m\u001b[0;34m\u001b[0m\u001b[0m\n\u001b[0;32m--> 315\u001b[0;31m             \u001b[0mpopulation\u001b[0m \u001b[0;34m=\u001b[0m \u001b[0mtuple\u001b[0m\u001b[0;34m(\u001b[0m\u001b[0mpopulation\u001b[0m\u001b[0;34m)\u001b[0m\u001b[0;34m\u001b[0m\u001b[0;34m\u001b[0m\u001b[0m\n\u001b[0m\u001b[1;32m    316\u001b[0m         \u001b[0;32mif\u001b[0m \u001b[0;32mnot\u001b[0m \u001b[0misinstance\u001b[0m\u001b[0;34m(\u001b[0m\u001b[0mpopulation\u001b[0m\u001b[0;34m,\u001b[0m \u001b[0m_Sequence\u001b[0m\u001b[0;34m)\u001b[0m\u001b[0;34m:\u001b[0m\u001b[0;34m\u001b[0m\u001b[0;34m\u001b[0m\u001b[0m\n\u001b[1;32m    317\u001b[0m             \u001b[0;32mraise\u001b[0m \u001b[0mTypeError\u001b[0m\u001b[0;34m(\u001b[0m\u001b[0;34m\"Population must be a sequence or set.  For dicts, use list(d).\"\u001b[0m\u001b[0;34m)\u001b[0m\u001b[0;34m\u001b[0m\u001b[0;34m\u001b[0m\u001b[0m\n",
      "\u001b[0;31mKeyboardInterrupt\u001b[0m: "
     ]
    }
   ],
   "source": [
    "# create a notebook for results and a lab in which to run the experiments\n",
    "nb = epyc.JSONLabNotebook('sir-experiments.json')\n",
    "lab = epyc.Lab(nb)\n",
    "\n",
    "# build the parameter space, where P_INFECT ranges from 0.01 to 1.0 in 10 steps\n",
    "lab[SIR.P_INFECTED] = 0.01\n",
    "lab[SIR.P_INFECT] = np.linspace(0.01, 1.0, num = 10, endpoint = True)\n",
    "lab[SIR.P_REMOVE] = 0.05\n",
    "\n",
    "# run 5 repetitions of the experiment at each point in the parameter space\n",
    "lab.runExperiment(epyc.RepeatedExperiment(e, 5))"
   ]
  },
  {
   "cell_type": "code",
   "execution_count": null,
   "metadata": {},
   "outputs": [],
   "source": [
    "df = lab.dataframe()"
   ]
  },
  {
   "cell_type": "markdown",
   "metadata": {},
   "source": [
    "## Tensorflow"
   ]
  },
  {
   "cell_type": "code",
   "execution_count": 388,
   "metadata": {},
   "outputs": [],
   "source": [
    "import tensorflow as tf\n",
    "import tensorflow_probability as tfp\n",
    "tfd = tfp.distributions"
   ]
  },
  {
   "cell_type": "code",
   "execution_count": 385,
   "metadata": {},
   "outputs": [
    {
     "data": {
      "text/plain": [
       "<module 'tensorflow_core._api.v2.config' from '/home/benson/fpna/.virtualenvs/fpna/lib/python3.7/site-packages/tensorflow_core/_api/v2/config/__init__.py'>"
      ]
     },
     "execution_count": 385,
     "metadata": {},
     "output_type": "execute_result"
    }
   ],
   "source": [
    "def session_options(enable_gpu_ram_resizing=True, enable_xla=False):\n",
    "    \"\"\"\n",
    "    Allowing the notebook to make use of GPUs if they're available.\n",
    "\n",
    "    XLA (Accelerated Linear Algebra) is a domain-specific compiler for linear\n",
    "    algebra that optimizes TensorFlow computations.\n",
    "    \"\"\"\n",
    "    config = tf.config\n",
    "    gpu_devices = config.experimental.list_physical_devices('GPU')\n",
    "    if enable_gpu_ram_resizing:\n",
    "        for device in gpu_devices:\n",
    "           tf.config.experimental.set_memory_growth(device, True)\n",
    "    if enable_xla:\n",
    "        config.optimizer.set_jit(True)\n",
    "    return config\n",
    "\n",
    "session_options(enable_gpu_ram_resizing=True, enable_xla=True)"
   ]
  },
  {
   "cell_type": "code",
   "execution_count": 387,
   "metadata": {},
   "outputs": [],
   "source": [
    "ifr = .01"
   ]
  },
  {
   "cell_type": "code",
   "execution_count": 328,
   "metadata": {},
   "outputs": [],
   "source": [
    "def get_gamma_param(mean, coef_of_var):\n",
    "    alpha = math.pow(1 / coef_of_var, 2)\n",
    "    beta = alpha / mean\n",
    "    return alpha, beta"
   ]
  },
  {
   "cell_type": "code",
   "execution_count": 370,
   "metadata": {},
   "outputs": [],
   "source": [
    "# https://www.imperial.ac.uk/media/imperial-college/medicine/mrc-gida/2020-03-30-COVID19-Report-13.pdf\n",
    "inf_to_onset_alpha, inf_to_onset_beta = get_gamma_param(5.1, .86)\n",
    "onset_to_death_alpha, onset_to_death_beta = get_gamma_param(18.8, .45)\n",
    "\n",
    "# https://wwwnc.cdc.gov/eid/article/26/6/20-0357_article\n",
    "# Fifty-nine of the 468 reports indicate that the infectee had symptoms earlier than the infector. Thus, presymptomatic transmission might be occurring. Given these negative-valued serial intervals, COVID-19 serial intervals seem to resemble a normal distribution more than the commonly assumed gamma or Weibull distributions (4,5), which are limited to positive values (Appendix)\n",
    "# serial_interval_mean, serial_interval_sdev = 3.96, 4.75\n",
    "\n",
    "serial_interval_alpha, serial_interval_beta = get_gamma_param(6.5, .62)"
   ]
  },
  {
   "cell_type": "code",
   "execution_count": 482,
   "metadata": {},
   "outputs": [],
   "source": [
    "n_sample = 1e5\n",
    "inf_to_onset = tfd.Gamma(inf_to_onset_alpha, inf_to_onset_beta).sample(n_sample)\n",
    "onset_to_death = tfd.Gamma(onset_to_death_alpha, onset_to_death_beta).sample(n_sample)"
   ]
  },
  {
   "cell_type": "code",
   "execution_count": 483,
   "metadata": {},
   "outputs": [],
   "source": [
    "inf_to_death = inf_to_onset + onset_to_death\n",
    "\n",
    "ifr_dist = tf.math.multiply(tf.cast(ifr * tf.cast(tf.size(inf_to_death), dtype=tf.float32) > \n",
    "                   tf.cast(tf.range(tf.size(inf_to_death)), dtype=tf.float32), \n",
    "                   dtype=tf.float32), inf_to_death)"
   ]
  },
  {
   "cell_type": "code",
   "execution_count": 504,
   "metadata": {},
   "outputs": [
    {
     "name": "stdout",
     "output_type": "stream",
     "text": [
      "Serial interval probability sum: 1.0\n"
     ]
    }
   ],
   "source": [
    "serial_interval = tfd.Gamma(serial_interval_alpha, serial_interval_beta).sample(n_sample)\n",
    "\n",
    "serial_interval_discrete = []\n",
    "bkt = np.append(np.array(0), np.arange(1.5, 51, 1))\n",
    "for i, j in zip(bkt[:-1], bkt[1:]):\n",
    "    serial_interval_discrete.append(np.sum((serial_interval >= i) & (serial_interval < j)))\n",
    "    \n",
    "print(f\"Serial interval probability sum check: {np.sum([np.array(serial_interval_discrete) / n_sample])}\")\n",
    "serial_interval_discrete = tfd.Categorical(\n",
    "    probs=[np.flip(np.array(serial_interval_discrete) / n_sample)])"
   ]
  },
  {
   "cell_type": "code",
   "execution_count": null,
   "metadata": {},
   "outputs": [],
   "source": [
    "def joint_log_prob(deaths):\n",
    "    rv_inf_to_onset = tfd.Gamma(inf_to_onset_alpha, inf_to_onset_beta)\n",
    "    rv_onset_to_death = tfd.Gamma(onset_to_death_alpha, onset_to_death_beta)\n",
    "    \n",
    "    rv_ifr_dist = tf.math.multiply(tf.cast(ifr * tf.cast(tf.size(inf_to_death), dtype=tf.float32) > \n",
    "                                        tf.cast(tf.range(tf.size(inf_to_death)), dtype=tf.float32), \n",
    "                                        dtype=tf.float32), inf_to_death)\n",
    "    \n",
    "#     tfp.sts.Autoregressive(51, coefficients_prior=serial_interval_discrete)\n",
    "    \n",
    "    "
   ]
  },
  {
   "cell_type": "code",
   "execution_count": 456,
   "metadata": {},
   "outputs": [
    {
     "data": {
      "text/plain": [
       "Text(0.5, 1.0, 'Infection to Death Distribution')"
      ]
     },
     "execution_count": 456,
     "metadata": {},
     "output_type": "execute_result"
    },
    {
     "data": {
      "image/png": "[encoded data removed]",
      "text/plain": [
       "<Figure size 432x288 with 1 Axes>"
      ]
     },
     "metadata": {},
     "output_type": "display_data"
    }
   ],
   "source": [
    "sns.distplot(inf_to_death).set_title('Infection to Death Distribution')"
   ]
  },
  {
   "cell_type": "code",
   "execution_count": 457,
   "metadata": {},
   "outputs": [
    {
     "data": {
      "text/plain": [
       "Text(0.5, 1.0, 'Infection to Death Distribution')"
      ]
     },
     "execution_count": 457,
     "metadata": {},
     "output_type": "execute_result"
    },
    {
     "data": {
      "image/png": "[encoded data removed]",
      "text/plain": [
       "<Figure size 432x288 with 1 Axes>"
      ]
     },
     "metadata": {},
     "output_type": "display_data"
    }
   ],
   "source": [
    "sns.distplot(inf_to_death, hist_kws={'cumulative': True}, kde_kws={'cumulative': True}).set_title('Infection to Death Distribution')\n",
    "\n"
   ]
  },
  {
   "cell_type": "code",
   "execution_count": 413,
   "metadata": {},
   "outputs": [],
   "source": [
    "death_dist = inf_to_death * ifr_dist"
   ]
  },
  {
   "cell_type": "code",
   "execution_count": 459,
   "metadata": {},
   "outputs": [
    {
     "data": {
      "text/plain": [
       "Text(0.5, 1.0, 'Serial Interval Distribution')"
      ]
     },
     "execution_count": 459,
     "metadata": {},
     "output_type": "execute_result"
    },
    {
     "data": {
      "image/png": "[encoded data removed]",
      "text/plain": [
       "<Figure size 432x288 with 1 Axes>"
      ]
     },
     "metadata": {},
     "output_type": "display_data"
    }
   ],
   "source": [
    "sns.distplot(serial_interval).set_title('Serial Interval Distribution')"
   ]
  },
  {
   "cell_type": "code",
   "execution_count": 460,
   "metadata": {},
   "outputs": [
    {
     "data": {
      "text/plain": [
       "<tf.Tensor: shape=(100000,), dtype=float32, numpy=\n",
       "array([ 8.817837  ,  0.66616696,  4.751441  , ..., 12.730528  ,\n",
       "        6.649432  ,  4.9314356 ], dtype=float32)>"
      ]
     },
     "execution_count": 460,
     "metadata": {},
     "output_type": "execute_result"
    }
   ],
   "source": [
    "serial_interval"
   ]
  },
  {
   "cell_type": "markdown",
   "metadata": {},
   "source": [
    "## Fit rate"
   ]
  },
  {
   "cell_type": "code",
   "execution_count": 555,
   "metadata": {},
   "outputs": [],
   "source": [
    "growth_rate = ((df_us['deaths'] / df_us['deaths'].shift(1)) - 1).dropna()\n",
    "x = np.array(growth_rate.index).reshape(-1, 1)\n",
    "y = np.array(growth_rate.values)"
   ]
  },
  {
   "cell_type": "code",
   "execution_count": 556,
   "metadata": {},
   "outputs": [],
   "source": [
    "x_tst = np.arange(1, 50).reshape(-1, 1)"
   ]
  },
  {
   "cell_type": "code",
   "execution_count": 557,
   "metadata": {},
   "outputs": [],
   "source": [
    "negloglik = lambda y, p_y: -p_y.log_prob(y)"
   ]
  },
  {
   "cell_type": "code",
   "execution_count": 626,
   "metadata": {},
   "outputs": [],
   "source": [
    "df_ca = df[df['state/region'] == 'NY'].groupby('date', as_index=False)['deceased_pct1M'].sum()\n",
    "df_ca = df_ca[df_ca['deceased_pct1M'] > 0.2]"
   ]
  },
  {
   "cell_type": "code",
   "execution_count": 627,
   "metadata": {},
   "outputs": [],
   "source": [
    "df_ca['growth'] = (df_ca['deceased_pct1M'] / df_ca['deceased_pct1M'].shift(1) - 1)\n",
    "df_ca.dropna(inplace=True)"
   ]
  },
  {
   "cell_type": "code",
   "execution_count": 628,
   "metadata": {},
   "outputs": [],
   "source": [
    "x = np.arange(len(df_ca)).reshape(-1, 1)\n",
    "y = df_ca['growth'].values"
   ]
  },
  {
   "cell_type": "code",
   "execution_count": 629,
   "metadata": {},
   "outputs": [],
   "source": [
    "model = tf.keras.Sequential([\n",
    "  tf.keras.layers.Dense(1 + 1),\n",
    "  tfp.layers.DistributionLambda(\n",
    "      lambda t: tfd.Normal(loc=t[..., :1],\n",
    "                           scale=1e-3 + tf.math.softplus(0.05 * t[..., 1:]))),\n",
    "])\n",
    "\n",
    "# Do inference.\n",
    "model.compile(optimizer=tf.optimizers.Adam(learning_rate=0.05), loss=negloglik)\n",
    "model.fit(x, y, epochs=500, verbose=False)\n",
    "\n",
    "# Make predictions.\n",
    "yhat = model(x_tst)"
   ]
  },
  {
   "cell_type": "code",
   "execution_count": 630,
   "metadata": {},
   "outputs": [
    {
     "data": {
      "text/plain": [
       "<matplotlib.legend.Legend at 0x7faed452b090>"
      ]
     },
     "execution_count": 630,
     "metadata": {},
     "output_type": "execute_result"
    },
    {
     "data": {
      "image/png": "[encoded data removed]",
      "text/plain": [
       "<Figure size 720x432 with 1 Axes>"
      ]
     },
     "metadata": {},
     "output_type": "display_data"
    }
   ],
   "source": [
    "#@title Figure 2: Aleatoric Uncertainty\n",
    "plt.figure(figsize=(10, 6))  # inches\n",
    "plt.plot(x, y, 'b.', label='observed');\n",
    "\n",
    "m = yhat.mean()\n",
    "s = yhat.stddev()\n",
    "\n",
    "plt.plot(x_tst, m, 'r', linewidth=4, label='mean');\n",
    "# plt.plot(x_tst, m + 2 * s, 'g', linewidth=2, label=r'mean + 2 stddev');\n",
    "# plt.plot(x_tst, m - 2 * s, 'g', linewidth=2, label=r'mean - 2 stddev');\n",
    "\n",
    "ax=plt.gca();\n",
    "ax.xaxis.set_ticks_position('bottom')\n",
    "ax.yaxis.set_ticks_position('left')\n",
    "ax.spines['left'].set_position(('data', 0))\n",
    "ax.spines['top'].set_visible(False)\n",
    "ax.spines['right'].set_visible(False)\n",
    "#ax.spines['left'].set_smart_bounds(True)\n",
    "#ax.spines['bottom'].set_smart_bounds(True)\n",
    "plt.legend(loc='center left', fancybox=True, framealpha=0., bbox_to_anchor=(1.05, 0.5))"
   ]
  }
 ],
 "metadata": {
  "kernelspec": {
   "display_name": "Python 3",
   "language": "python",
   "name": "python3"
  },
  "language_info": {
   "codemirror_mode": {
    "name": "ipython",
    "version": 3
   },
   "file_extension": ".py",
   "mimetype": "text/x-python",
   "name": "python",
   "nbconvert_exporter": "python",
   "pygments_lexer": "ipython3",
   "version": "3.7.5"
  }
 },
 "nbformat": 4,
 "nbformat_minor": 4
}
